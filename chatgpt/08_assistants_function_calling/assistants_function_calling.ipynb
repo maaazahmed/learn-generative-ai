{
 "cells": [
  {
   "cell_type": "code",
   "execution_count": 104,
   "metadata": {},
   "outputs": [],
   "source": [
    "from openai import OpenAI\n",
    "from dotenv import dotenv_values\n",
    "import json\n",
    "# **** GPT_MODEL **** #\n",
    "GPT_MODEL = \"gpt-3.5-turbo-1106\"\n",
    "\n",
    "\n",
    "OPENAI_API_KEY:str = dotenv_values(\".env\").get(\"OPENAI_API_KEY\")\n",
    "client:OpenAI = OpenAI(api_key=OPENAI_API_KEY)\n"
   ]
  },
  {
   "cell_type": "code",
   "execution_count": 105,
   "metadata": {},
   "outputs": [],
   "source": [
    "def getCurrentWeather(location:str, unit:str=\"fahrenheit\")->str | dict | None:\n",
    "    \"\"\"Get the current weather in a given location\"\"\"\n",
    "    if \"tokyo\" in location.lower():\n",
    "        return json.dumps({\"location\": \"Tokyo\", \"temperature\": \"10\", \"unit\": \"celsius\"})\n",
    "    elif \"los angeles\" in location.lower():\n",
    "        return json.dumps({\"location\": \"San Francisco\", \"temperature\": \"72\", \"unit\": \"fahrenheit\"})\n",
    "    elif \"paris\" in location.lower():\n",
    "        return json.dumps({\"location\": \"Paris\", \"temperature\": \"22\", \"unit\": \"celsius\"})\n",
    "    else:\n",
    "        return json.dumps({\"location\": location, \"temperature\": \"unknown\"})\n",
    "    \n",
    "\n",
    "def getNickname(location:str)->str:\n",
    "    \"\"\"Get the nickname of a city\"\"\"\n",
    "    if \"tokyo\" in location.lower():\n",
    "        return \"tk\"\n",
    "    elif \"los angeles\" in location.lower():\n",
    "        return \"la\"\n",
    "    elif \"paris\" in location.lower():\n",
    "        return \"py\"\n",
    "    else:\n",
    "        return location"
   ]
  },
  {
   "cell_type": "code",
   "execution_count": 106,
   "metadata": {},
   "outputs": [],
   "source": [
    "def show_json(obj):\n",
    "    return json.loads(obj.model_dump_json())"
   ]
  },
  {
   "cell_type": "code",
   "execution_count": 107,
   "metadata": {},
   "outputs": [
    {
     "data": {
      "text/plain": [
       "{'id': 'asst_ZAxdSuDj6ZOlH8lnNlmTr78P',\n",
       " 'created_at': 1702644271,\n",
       " 'description': None,\n",
       " 'file_ids': [],\n",
       " 'instructions': 'You are a weather bot. Use the provided functions to answer questions.',\n",
       " 'metadata': {},\n",
       " 'model': 'gpt-3.5-turbo-1106',\n",
       " 'name': None,\n",
       " 'object': 'assistant',\n",
       " 'tools': [{'function': {'name': 'getCurrentWeather',\n",
       "    'parameters': {'type': 'object',\n",
       "     'properties': {'location': {'type': 'string',\n",
       "       'description': 'The city and state e.g. San Francisco, CA'},\n",
       "      'unit': {'type': 'string', 'enum': ['f', 'c']}},\n",
       "     'required': ['location']},\n",
       "    'description': 'Get the weather in location'},\n",
       "   'type': 'function'},\n",
       "  {'function': {'name': 'getNickname',\n",
       "    'parameters': {'type': 'object',\n",
       "     'properties': {'location': {'type': 'string',\n",
       "       'description': 'The city and state e.g. San Francisco, CA'}},\n",
       "     'required': ['location']},\n",
       "    'description': 'Get the nickname of a city'},\n",
       "   'type': 'function'}]}"
      ]
     },
     "execution_count": 107,
     "metadata": {},
     "output_type": "execute_result"
    }
   ],
   "source": [
    "from openai.types.beta.assistant import Assistant\n",
    "from typing import Union\n",
    "\n",
    "tools:list[dict[str, Union[str, dict]]] = [\n",
    "    {\n",
    "        \"type\":\"function\",\n",
    "        \"function\":{\n",
    "            \"name\":\"getCurrentWeather\",\n",
    "            \"description\":\"Get the weather in location\",\n",
    "            \"parameters\":{\n",
    "                \"type\":\"object\",\n",
    "                \"properties\":{\n",
    "                   \"location\":{\"type\":\"string\", \"description\":\"The city and state e.g. San Francisco, CA\"},\n",
    "                   \"unit\":{\"type\":\"string\", \"enum\":[\"f\",\"c\"]}\n",
    "                },\n",
    "                \"required\":[\"location\"]\n",
    "            }\n",
    "        }\n",
    "    },\n",
    "     {\n",
    "    \"type\": \"function\",\n",
    "    \"function\": {\n",
    "      \"name\": \"getNickname\",\n",
    "      \"description\": \"Get the nickname of a city\",\n",
    "      \"parameters\": {\n",
    "        \"type\": \"object\",\n",
    "        \"properties\": {\n",
    "          \"location\": {\"type\": \"string\", \"description\": \"The city and state e.g. San Francisco, CA\"},\n",
    "        },\n",
    "        \"required\": [\"location\"]\n",
    "      }\n",
    "    } \n",
    "  }\n",
    "]\n",
    "\n",
    "assistant:Assistant = client.beta.assistants.create(\n",
    "    instructions=\"You are a weather bot. Use the provided functions to answer questions.\",\n",
    "    model=GPT_MODEL,\n",
    "    tools=tools\n",
    ")\n",
    "\n",
    "show_json(assistant)"
   ]
  },
  {
   "cell_type": "code",
   "execution_count": 108,
   "metadata": {},
   "outputs": [
    {
     "data": {
      "text/plain": [
       "{'id': 'thread_5pJgPIF3jSdmXXCGdIVnwaI9',\n",
       " 'created_at': 1702644272,\n",
       " 'metadata': {},\n",
       " 'object': 'thread'}"
      ]
     },
     "execution_count": 108,
     "metadata": {},
     "output_type": "execute_result"
    }
   ],
   "source": [
    "from openai.types.beta.thread import Thread\n",
    "\n",
    "thread:Thread =  client.beta.threads.create()\n",
    "\n",
    "show_json(thread)"
   ]
  },
  {
   "cell_type": "code",
   "execution_count": 109,
   "metadata": {},
   "outputs": [
    {
     "data": {
      "text/plain": [
       "{'id': 'msg_yLUZ6Ny0CCvTlJyAWkOosxn8',\n",
       " 'assistant_id': None,\n",
       " 'content': [{'text': {'annotations': [],\n",
       "    'value': 'how is the weather in Los Angles?'},\n",
       "   'type': 'text'}],\n",
       " 'created_at': 1702644272,\n",
       " 'file_ids': [],\n",
       " 'metadata': {},\n",
       " 'object': 'thread.message',\n",
       " 'role': 'user',\n",
       " 'run_id': None,\n",
       " 'thread_id': 'thread_5pJgPIF3jSdmXXCGdIVnwaI9'}"
      ]
     },
     "execution_count": 109,
     "metadata": {},
     "output_type": "execute_result"
    }
   ],
   "source": [
    "from openai.types.beta.threads.thread_message import ThreadMessage\n",
    "\n",
    "message:ThreadMessage =  client.beta.threads.messages.create(\n",
    "    thread_id=thread.id,\n",
    "    role=\"user\",\n",
    "    content=\"how is the weather in Los Angles?\"\n",
    ")\n",
    "\n",
    "show_json(message)"
   ]
  },
  {
   "cell_type": "code",
   "execution_count": 110,
   "metadata": {},
   "outputs": [],
   "source": [
    "from openai.types.beta.threads.run import Run\n",
    "\n",
    "run:Run =  client.beta.threads.runs.create(\n",
    "    thread_id=thread.id,\n",
    "    assistant_id=assistant.id\n",
    ")"
   ]
  },
  {
   "cell_type": "code",
   "execution_count": 111,
   "metadata": {},
   "outputs": [
    {
     "data": {
      "text/plain": [
       "{'id': 'run_OfJSd8POzo8QJiGT62YNEh8a',\n",
       " 'assistant_id': 'asst_ZAxdSuDj6ZOlH8lnNlmTr78P',\n",
       " 'cancelled_at': None,\n",
       " 'completed_at': None,\n",
       " 'created_at': 1702644273,\n",
       " 'expires_at': 1702644873,\n",
       " 'failed_at': None,\n",
       " 'file_ids': [],\n",
       " 'instructions': 'You are a weather bot. Use the provided functions to answer questions.',\n",
       " 'last_error': None,\n",
       " 'metadata': {},\n",
       " 'model': 'gpt-3.5-turbo-1106',\n",
       " 'object': 'thread.run',\n",
       " 'required_action': None,\n",
       " 'started_at': None,\n",
       " 'status': 'queued',\n",
       " 'thread_id': 'thread_5pJgPIF3jSdmXXCGdIVnwaI9',\n",
       " 'tools': [{'function': {'name': 'getCurrentWeather',\n",
       "    'parameters': {'type': 'object',\n",
       "     'properties': {'location': {'type': 'string',\n",
       "       'description': 'The city and state e.g. San Francisco, CA'},\n",
       "      'unit': {'type': 'string', 'enum': ['f', 'c']}},\n",
       "     'required': ['location']},\n",
       "    'description': 'Get the weather in location'},\n",
       "   'type': 'function'},\n",
       "  {'function': {'name': 'getNickname',\n",
       "    'parameters': {'type': 'object',\n",
       "     'properties': {'location': {'type': 'string',\n",
       "       'description': 'The city and state e.g. San Francisco, CA'}},\n",
       "     'required': ['location']},\n",
       "    'description': 'Get the nickname of a city'},\n",
       "   'type': 'function'}]}"
      ]
     },
     "execution_count": 111,
     "metadata": {},
     "output_type": "execute_result"
    }
   ],
   "source": [
    "show_json(run)"
   ]
  },
  {
   "cell_type": "code",
   "execution_count": 112,
   "metadata": {},
   "outputs": [],
   "source": [
    "available_functions = {\n",
    "    \"getCurrentWeather\":getCurrentWeather,\n",
    "    \"getNickname\":getNickname\n",
    "}"
   ]
  },
  {
   "cell_type": "code",
   "execution_count": 121,
   "metadata": {},
   "outputs": [
    {
     "name": "stdout",
     "output_type": "stream",
     "text": [
      "---------------------\n",
      "succesfuly completed\n",
      "---------------------\n",
      "Run(id='run_OfJSd8POzo8QJiGT62YNEh8a', assistant_id='asst_ZAxdSuDj6ZOlH8lnNlmTr78P', cancelled_at=None, completed_at=1702644277, created_at=1702644273, expires_at=None, failed_at=None, file_ids=[], instructions='You are a weather bot. Use the provided functions to answer questions.', last_error=None, metadata={}, model='gpt-3.5-turbo-1106', object='thread.run', required_action=None, started_at=1702644276, status='completed', thread_id='thread_5pJgPIF3jSdmXXCGdIVnwaI9', tools=[ToolAssistantToolsFunction(function=FunctionDefinition(name='getCurrentWeather', parameters={'type': 'object', 'properties': {'location': {'type': 'string', 'description': 'The city and state e.g. San Francisco, CA'}, 'unit': {'type': 'string', 'enum': ['f', 'c']}}, 'required': ['location']}, description='Get the weather in location'), type='function'), ToolAssistantToolsFunction(function=FunctionDefinition(name='getNickname', parameters={'type': 'object', 'properties': {'location': {'type': 'string', 'description': 'The city and state e.g. San Francisco, CA'}}, 'required': ['location']}, description='Get the nickname of a city'), type='function')])\n"
     ]
    },
    {
     "data": {
      "text/plain": [
       "{'data': [{'id': 'msg_bBoAQd6WWyy51U2iS3RaiHs2',\n",
       "   'assistant_id': 'asst_ZAxdSuDj6ZOlH8lnNlmTr78P',\n",
       "   'content': [{'text': {'annotations': [],\n",
       "      'value': 'The current weather in Los Angeles, CA is 72°F with clear skies. Los Angeles is also known as \"la\".'},\n",
       "     'type': 'text'}],\n",
       "   'created_at': 1702644277,\n",
       "   'file_ids': [],\n",
       "   'metadata': {},\n",
       "   'object': 'thread.message',\n",
       "   'role': 'assistant',\n",
       "   'run_id': 'run_OfJSd8POzo8QJiGT62YNEh8a',\n",
       "   'thread_id': 'thread_5pJgPIF3jSdmXXCGdIVnwaI9'},\n",
       "  {'id': 'msg_yLUZ6Ny0CCvTlJyAWkOosxn8',\n",
       "   'assistant_id': None,\n",
       "   'content': [{'text': {'annotations': [],\n",
       "      'value': 'how is the weather in Los Angles?'},\n",
       "     'type': 'text'}],\n",
       "   'created_at': 1702644272,\n",
       "   'file_ids': [],\n",
       "   'metadata': {},\n",
       "   'object': 'thread.message',\n",
       "   'role': 'user',\n",
       "   'run_id': None,\n",
       "   'thread_id': 'thread_5pJgPIF3jSdmXXCGdIVnwaI9'}],\n",
       " 'object': 'list',\n",
       " 'first_id': 'msg_bBoAQd6WWyy51U2iS3RaiHs2',\n",
       " 'last_id': 'msg_yLUZ6Ny0CCvTlJyAWkOosxn8',\n",
       " 'has_more': False}"
      ]
     },
     "metadata": {},
     "output_type": "display_data"
    },
    {
     "data": {
      "text/plain": [
       "'-----'"
      ]
     },
     "metadata": {},
     "output_type": "display_data"
    },
    {
     "name": "stdout",
     "output_type": "stream",
     "text": [
      "User: how is the weather in Los Angles? \n",
      "\n",
      "Assistant: The current weather in Los Angeles, CA is 72°F with clear skies. Los Angeles is also known as \"la\". \n",
      "\n"
     ]
    }
   ],
   "source": [
    "import time\n",
    "\n",
    "while True:\n",
    "    runRequest = client.beta.threads.runs.retrieve(thread_id=thread.id,run_id=run.id)\n",
    "        # if runStatus.required_action.submit_tool_outputs and runStatus.required_action.submit_tool_outputs.tool_calls:\n",
    "# \n",
    "    # run_steps = client.beta.threads.runs.steps.list(thread_id=thread.id, run_id=run.id)\n",
    "\n",
    "    if runRequest.status == \"requires_action\":\n",
    "        print(runRequest.status,\"==========\")\n",
    "        print(\"Status: \", \"requires_action\")\n",
    "        display(show_json(runRequest.required_action))\n",
    "        if runRequest.required_action.submit_tool_outputs and runRequest.required_action.submit_tool_outputs.tool_calls:\n",
    "            print(\"toolCalls Present:\")\n",
    "            toolCalls = runRequest.required_action.submit_tool_outputs.tool_calls\n",
    "\n",
    "            tool_outputs = []\n",
    "            print(toolCalls)\n",
    "            for toolcall in toolCalls:\n",
    "                # print(\"-----------\")\n",
    "                # display(show_json(toolcall))\n",
    "                function_name = toolcall.function.name\n",
    "                function_args = json.loads(toolcall.function.arguments)\n",
    "\n",
    "                if function_name in available_functions:\n",
    "                    function_to_call =  available_functions[function_name]\n",
    "\n",
    "                    if(function_to_call.__name__ == \"getCurrentWeather\"):\n",
    "                        print(function_name)\n",
    "                        response =  function_to_call(\n",
    "                            location=function_args.get(\"location\"),\n",
    "                            unit=function_args.get(\"unit\")\n",
    "                        )\n",
    "\n",
    "                        display(response)\n",
    "                        tool_outputs.append({\n",
    "                            \"tool_call_id\":toolcall.id,\n",
    "                            \"output\":response\n",
    "                        })\n",
    "\n",
    "\n",
    "                    elif function_to_call.__name__ == \"getNickname\":\n",
    "                        response = function_to_call(\n",
    "                            location=function_args.get(\"location\")\n",
    "                        )\n",
    "                        tool_outputs.append({\n",
    "                            \"tool_call_id\":toolcall.id,\n",
    "                            \"output\":response\n",
    "                        })\n",
    "            print(tool_outputs)\n",
    "\n",
    "            client.beta.threads.runs.submit_tool_outputs(\n",
    "                thread_id=thread.id,\n",
    "                run_id=run.id,\n",
    "                tool_outputs=tool_outputs\n",
    "            )\n",
    "    elif runRequest.status == \"completed\":\n",
    "        print(\"---------------------\")\n",
    "        print(\"succesfuly completed\")\n",
    "        print(\"---------------------\")\n",
    "        messages:list[ThreadMessage] =  client.beta.threads.messages.list(thread_id=thread.id)\n",
    "\n",
    "        for message in reversed(messages.data):\n",
    "            role_lable =  \"User\" if message.role == \"user\" else \"Assistant\"\n",
    "            message_content = message.content[0].text.value\n",
    "            print(f\"{role_lable}: {message_content} \\n\")\n",
    "        break\n",
    "    \n",
    "    elif run.status == \"failed\":\n",
    "        print(f\"Run is {run.status}\")\n",
    "        break\n",
    "    elif run.status in [\"in_progress\", \"queued\"]:\n",
    "        print(f\"Run is {run.status}. Waiting...\")\n",
    "        time.sleep(0.5)    \n",
    "\n",
    "    else: \n",
    "        display(show_json(runRequest))\n",
    "        break\n",
    "\n"
   ]
  },
  {
   "cell_type": "code",
   "execution_count": null,
   "metadata": {},
   "outputs": [],
   "source": []
  },
  {
   "cell_type": "code",
   "execution_count": null,
   "metadata": {},
   "outputs": [],
   "source": []
  }
 ],
 "metadata": {
  "kernelspec": {
   "display_name": "python-env-12",
   "language": "python",
   "name": "python3"
  },
  "language_info": {
   "codemirror_mode": {
    "name": "ipython",
    "version": 3
   },
   "file_extension": ".py",
   "mimetype": "text/x-python",
   "name": "python",
   "nbconvert_exporter": "python",
   "pygments_lexer": "ipython3",
   "version": "3.12.0"
  }
 },
 "nbformat": 4,
 "nbformat_minor": 2
}
