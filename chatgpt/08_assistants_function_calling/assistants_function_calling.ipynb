{
 "cells": [
  {
   "cell_type": "code",
   "execution_count": 123,
   "metadata": {},
   "outputs": [],
   "source": [
    "from openai import OpenAI\n",
    "from dotenv import dotenv_values\n",
    "import json\n",
    "# **** GPT_MODEL **** #\n",
    "GPT_MODEL = \"gpt-3.5-turbo-1106\"\n",
    "\n",
    "\n",
    "OPENAI_API_KEY:str = dotenv_values(\".env\").get(\"OPENAI_API_KEY\")\n",
    "client:OpenAI = OpenAI(api_key=OPENAI_API_KEY)\n"
   ]
  },
  {
   "cell_type": "code",
   "execution_count": 124,
   "metadata": {},
   "outputs": [],
   "source": [
    "def getCurrentWeather(location:str, unit:str=\"fahrenheit\")->str | dict | None:\n",
    "    \"\"\"Get the current weather in a given location\"\"\"\n",
    "    if \"tokyo\" in location.lower():\n",
    "        return json.dumps({\"location\": \"Tokyo\", \"temperature\": \"10\", \"unit\": \"celsius\"})\n",
    "    elif \"los angeles\" in location.lower():\n",
    "        return json.dumps({\"location\": \"San Francisco\", \"temperature\": \"72\", \"unit\": \"fahrenheit\"})\n",
    "    elif \"paris\" in location.lower():\n",
    "        return json.dumps({\"location\": \"Paris\", \"temperature\": \"22\", \"unit\": \"celsius\"})\n",
    "    else:\n",
    "        return json.dumps({\"location\": location, \"temperature\": \"unknown\"})\n",
    "    \n",
    "\n",
    "def getNickname(location:str)->str:\n",
    "    \"\"\"Get the nickname of a city\"\"\"\n",
    "    if \"tokyo\" in location.lower():\n",
    "        return \"tk\"\n",
    "    elif \"los angeles\" in location.lower():\n",
    "        return \"la\"\n",
    "    elif \"paris\" in location.lower():\n",
    "        return \"py\"\n",
    "    else:\n",
    "        return location"
   ]
  },
  {
   "cell_type": "code",
   "execution_count": 125,
   "metadata": {},
   "outputs": [],
   "source": [
    "def show_json(obj):\n",
    "    return json.loads(obj.model_dump_json())"
   ]
  },
  {
   "cell_type": "code",
   "execution_count": 126,
   "metadata": {},
   "outputs": [
    {
     "data": {
      "text/plain": [
       "{'id': 'asst_hC4omOMeVgs4Lk8ZoMWO8Giz',\n",
       " 'created_at': 1702644924,\n",
       " 'description': None,\n",
       " 'file_ids': [],\n",
       " 'instructions': 'You are a weather bot. Use the provided functions to answer questions.',\n",
       " 'metadata': {},\n",
       " 'model': 'gpt-3.5-turbo-1106',\n",
       " 'name': None,\n",
       " 'object': 'assistant',\n",
       " 'tools': [{'function': {'name': 'getCurrentWeather',\n",
       "    'parameters': {'type': 'object',\n",
       "     'properties': {'location': {'type': 'string',\n",
       "       'description': 'The city and state e.g. San Francisco, CA'},\n",
       "      'unit': {'type': 'string', 'enum': ['f', 'c']}},\n",
       "     'required': ['location']},\n",
       "    'description': 'Get the weather in location'},\n",
       "   'type': 'function'},\n",
       "  {'function': {'name': 'getNickname',\n",
       "    'parameters': {'type': 'object',\n",
       "     'properties': {'location': {'type': 'string',\n",
       "       'description': 'The city and state e.g. San Francisco, CA'}},\n",
       "     'required': ['location']},\n",
       "    'description': 'Get the nickname of a city'},\n",
       "   'type': 'function'}]}"
      ]
     },
     "execution_count": 126,
     "metadata": {},
     "output_type": "execute_result"
    }
   ],
   "source": [
    "from openai.types.beta.assistant import Assistant\n",
    "from typing import Union\n",
    "\n",
    "tools:list[dict[str, Union[str, dict]]] = [\n",
    "    {\n",
    "        \"type\":\"function\",\n",
    "        \"function\":{\n",
    "            \"name\":\"getCurrentWeather\",\n",
    "            \"description\":\"Get the weather in location\",\n",
    "            \"parameters\":{\n",
    "                \"type\":\"object\",\n",
    "                \"properties\":{\n",
    "                   \"location\":{\"type\":\"string\", \"description\":\"The city and state e.g. San Francisco, CA\"},\n",
    "                   \"unit\":{\"type\":\"string\", \"enum\":[\"f\",\"c\"]}\n",
    "                },\n",
    "                \"required\":[\"location\"]\n",
    "            }\n",
    "        }\n",
    "    },\n",
    "     {\n",
    "    \"type\": \"function\",\n",
    "    \"function\": {\n",
    "      \"name\": \"getNickname\",\n",
    "      \"description\": \"Get the nickname of a city\",\n",
    "      \"parameters\": {\n",
    "        \"type\": \"object\",\n",
    "        \"properties\": {\n",
    "          \"location\": {\"type\": \"string\", \"description\": \"The city and state e.g. San Francisco, CA\"},\n",
    "        },\n",
    "        \"required\": [\"location\"]\n",
    "      }\n",
    "    } \n",
    "  }\n",
    "]\n",
    "\n",
    "assistant:Assistant = client.beta.assistants.create(\n",
    "    instructions=\"You are a weather bot. Use the provided functions to answer questions.\",\n",
    "    model=GPT_MODEL,\n",
    "    tools=tools\n",
    ")\n",
    "\n",
    "show_json(assistant)"
   ]
  },
  {
   "cell_type": "code",
   "execution_count": 127,
   "metadata": {},
   "outputs": [
    {
     "data": {
      "text/plain": [
       "{'id': 'thread_KX8YikJXTQ1W5inLfj3D7ohu',\n",
       " 'created_at': 1702644924,\n",
       " 'metadata': {},\n",
       " 'object': 'thread'}"
      ]
     },
     "execution_count": 127,
     "metadata": {},
     "output_type": "execute_result"
    }
   ],
   "source": [
    "from openai.types.beta.thread import Thread\n",
    "\n",
    "thread:Thread =  client.beta.threads.create()\n",
    "\n",
    "show_json(thread)"
   ]
  },
  {
   "cell_type": "code",
   "execution_count": 128,
   "metadata": {},
   "outputs": [
    {
     "data": {
      "text/plain": [
       "{'id': 'msg_kCczYVE2vVt4M3Jaj7zCQr3n',\n",
       " 'assistant_id': None,\n",
       " 'content': [{'text': {'annotations': [],\n",
       "    'value': 'how is the weather in Los Angles?'},\n",
       "   'type': 'text'}],\n",
       " 'created_at': 1702644925,\n",
       " 'file_ids': [],\n",
       " 'metadata': {},\n",
       " 'object': 'thread.message',\n",
       " 'role': 'user',\n",
       " 'run_id': None,\n",
       " 'thread_id': 'thread_KX8YikJXTQ1W5inLfj3D7ohu'}"
      ]
     },
     "execution_count": 128,
     "metadata": {},
     "output_type": "execute_result"
    }
   ],
   "source": [
    "from openai.types.beta.threads.thread_message import ThreadMessage\n",
    "\n",
    "message:ThreadMessage =  client.beta.threads.messages.create(\n",
    "    thread_id=thread.id,\n",
    "    role=\"user\",\n",
    "    content=\"how is the weather in Los Angles?\"\n",
    ")\n",
    "\n",
    "show_json(message)"
   ]
  },
  {
   "cell_type": "code",
   "execution_count": 129,
   "metadata": {},
   "outputs": [],
   "source": [
    "from openai.types.beta.threads.run import Run\n",
    "\n",
    "run:Run =  client.beta.threads.runs.create(\n",
    "    thread_id=thread.id,\n",
    "    assistant_id=assistant.id\n",
    ")"
   ]
  },
  {
   "cell_type": "code",
   "execution_count": 130,
   "metadata": {},
   "outputs": [
    {
     "data": {
      "text/plain": [
       "{'id': 'run_pggKfBt0qxu2XywYQyCL0AEF',\n",
       " 'assistant_id': 'asst_hC4omOMeVgs4Lk8ZoMWO8Giz',\n",
       " 'cancelled_at': None,\n",
       " 'completed_at': None,\n",
       " 'created_at': 1702644926,\n",
       " 'expires_at': 1702645526,\n",
       " 'failed_at': None,\n",
       " 'file_ids': [],\n",
       " 'instructions': 'You are a weather bot. Use the provided functions to answer questions.',\n",
       " 'last_error': None,\n",
       " 'metadata': {},\n",
       " 'model': 'gpt-3.5-turbo-1106',\n",
       " 'object': 'thread.run',\n",
       " 'required_action': None,\n",
       " 'started_at': None,\n",
       " 'status': 'queued',\n",
       " 'thread_id': 'thread_KX8YikJXTQ1W5inLfj3D7ohu',\n",
       " 'tools': [{'function': {'name': 'getCurrentWeather',\n",
       "    'parameters': {'type': 'object',\n",
       "     'properties': {'location': {'type': 'string',\n",
       "       'description': 'The city and state e.g. San Francisco, CA'},\n",
       "      'unit': {'type': 'string', 'enum': ['f', 'c']}},\n",
       "     'required': ['location']},\n",
       "    'description': 'Get the weather in location'},\n",
       "   'type': 'function'},\n",
       "  {'function': {'name': 'getNickname',\n",
       "    'parameters': {'type': 'object',\n",
       "     'properties': {'location': {'type': 'string',\n",
       "       'description': 'The city and state e.g. San Francisco, CA'}},\n",
       "     'required': ['location']},\n",
       "    'description': 'Get the nickname of a city'},\n",
       "   'type': 'function'}]}"
      ]
     },
     "execution_count": 130,
     "metadata": {},
     "output_type": "execute_result"
    }
   ],
   "source": [
    "show_json(run)"
   ]
  },
  {
   "cell_type": "code",
   "execution_count": 131,
   "metadata": {},
   "outputs": [],
   "source": [
    "available_functions = {\n",
    "    \"getCurrentWeather\":getCurrentWeather,\n",
    "    \"getNickname\":getNickname\n",
    "}"
   ]
  },
  {
   "cell_type": "code",
   "execution_count": 132,
   "metadata": {},
   "outputs": [
    {
     "name": "stdout",
     "output_type": "stream",
     "text": [
      "Run is queued. Waiting...\n",
      "requires_action ==========\n",
      "Status:  requires_action\n"
     ]
    },
    {
     "data": {
      "text/plain": [
       "{'submit_tool_outputs': {'tool_calls': [{'id': 'call_CMMKkGVPybDigWM4S93UalCS',\n",
       "    'function': {'arguments': '{\"location\":\"Los Angeles, CA\"}',\n",
       "     'name': 'getCurrentWeather'},\n",
       "    'type': 'function'}]},\n",
       " 'type': 'submit_tool_outputs'}"
      ]
     },
     "metadata": {},
     "output_type": "display_data"
    },
    {
     "name": "stdout",
     "output_type": "stream",
     "text": [
      "toolCalls Present:\n",
      "[RequiredActionFunctionToolCall(id='call_CMMKkGVPybDigWM4S93UalCS', function=Function(arguments='{\"location\":\"Los Angeles, CA\"}', name='getCurrentWeather'), type='function')]\n",
      "getCurrentWeather\n"
     ]
    },
    {
     "data": {
      "text/plain": [
       "'{\"location\": \"San Francisco\", \"temperature\": \"72\", \"unit\": \"fahrenheit\"}'"
      ]
     },
     "metadata": {},
     "output_type": "display_data"
    },
    {
     "name": "stdout",
     "output_type": "stream",
     "text": [
      "[{'tool_call_id': 'call_CMMKkGVPybDigWM4S93UalCS', 'output': '{\"location\": \"San Francisco\", \"temperature\": \"72\", \"unit\": \"fahrenheit\"}'}]\n",
      "Run is queued. Waiting...\n",
      "---------------------\n",
      "succesfuly completed\n",
      "---------------------\n",
      "User: how is the weather in Los Angles? \n",
      "\n",
      "Assistant: The current temperature in Los Angeles is 72°F. \n",
      "\n"
     ]
    }
   ],
   "source": [
    "import time\n",
    "\n",
    "while True:\n",
    "    runRequest = client.beta.threads.runs.retrieve(thread_id=thread.id,run_id=run.id)\n",
    "        # if runStatus.required_action.submit_tool_outputs and runStatus.required_action.submit_tool_outputs.tool_calls:\n",
    "# \n",
    "    # run_steps = client.beta.threads.runs.steps.list(thread_id=thread.id, run_id=run.id)\n",
    "\n",
    "    if runRequest.status == \"requires_action\":\n",
    "        print(runRequest.status,\"==========\")\n",
    "        print(\"Status: \", \"requires_action\")\n",
    "        display(show_json(runRequest.required_action))\n",
    "        if runRequest.required_action.submit_tool_outputs and runRequest.required_action.submit_tool_outputs.tool_calls:\n",
    "            print(\"toolCalls Present:\")\n",
    "            toolCalls = runRequest.required_action.submit_tool_outputs.tool_calls\n",
    "\n",
    "            tool_outputs = []\n",
    "            print(toolCalls)\n",
    "            for toolcall in toolCalls:\n",
    "                # print(\"-----------\")\n",
    "                # display(show_json(toolcall))\n",
    "                function_name = toolcall.function.name\n",
    "                function_args = json.loads(toolcall.function.arguments)\n",
    "\n",
    "                if function_name in available_functions:\n",
    "                    function_to_call =  available_functions[function_name]\n",
    "\n",
    "                    if(function_to_call.__name__ == \"getCurrentWeather\"):\n",
    "                        print(function_name)\n",
    "                        response =  function_to_call(\n",
    "                            location=function_args.get(\"location\"),\n",
    "                            unit=function_args.get(\"unit\")\n",
    "                        )\n",
    "\n",
    "                        display(response)\n",
    "                        tool_outputs.append({\n",
    "                            \"tool_call_id\":toolcall.id,\n",
    "                            \"output\":response\n",
    "                        })\n",
    "\n",
    "\n",
    "                    elif function_to_call.__name__ == \"getNickname\":\n",
    "                        response = function_to_call(\n",
    "                            location=function_args.get(\"location\")\n",
    "                        )\n",
    "                        tool_outputs.append({\n",
    "                            \"tool_call_id\":toolcall.id,\n",
    "                            \"output\":response\n",
    "                        })\n",
    "            print(tool_outputs)\n",
    "\n",
    "            client.beta.threads.runs.submit_tool_outputs(\n",
    "                thread_id=thread.id,\n",
    "                run_id=run.id,\n",
    "                tool_outputs=tool_outputs\n",
    "            )\n",
    "    elif runRequest.status == \"completed\":\n",
    "        print(\"---------------------\")\n",
    "        print(\"succesfuly completed\")\n",
    "        print(\"---------------------\")\n",
    "        messages:list[ThreadMessage] =  client.beta.threads.messages.list(thread_id=thread.id)\n",
    "\n",
    "        for message in reversed(messages.data):\n",
    "            role_lable =  \"User\" if message.role == \"user\" else \"Assistant\"\n",
    "            message_content = message.content[0].text.value\n",
    "            print(f\"{role_lable}: {message_content} \\n\")\n",
    "        break\n",
    "    \n",
    "    elif run.status == \"failed\":\n",
    "        print(f\"Run is {run.status}\")\n",
    "        break\n",
    "    elif run.status in [\"in_progress\", \"queued\"]:\n",
    "        print(f\"Run is {run.status}. Waiting...\")\n",
    "        time.sleep(0.5)    \n",
    "\n",
    "    else: \n",
    "        display(show_json(runRequest))\n",
    "        break\n",
    "\n"
   ]
  },
  {
   "cell_type": "code",
   "execution_count": null,
   "metadata": {},
   "outputs": [],
   "source": []
  },
  {
   "cell_type": "code",
   "execution_count": null,
   "metadata": {},
   "outputs": [],
   "source": []
  }
 ],
 "metadata": {
  "kernelspec": {
   "display_name": "python-env-12",
   "language": "python",
   "name": "python3"
  },
  "language_info": {
   "codemirror_mode": {
    "name": "ipython",
    "version": 3
   },
   "file_extension": ".py",
   "mimetype": "text/x-python",
   "name": "python",
   "nbconvert_exporter": "python",
   "pygments_lexer": "ipython3",
   "version": "3.12.0"
  }
 },
 "nbformat": 4,
 "nbformat_minor": 2
}
