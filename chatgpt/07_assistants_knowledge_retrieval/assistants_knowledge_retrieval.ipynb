{
 "cells": [
  {
   "cell_type": "code",
   "execution_count": 21,
   "metadata": {},
   "outputs": [],
   "source": [
    "from openai import OpenAI\n",
    "from dotenv import dotenv_values\n",
    "import json\n",
    "# **** GPT_MODEL **** #\n",
    "GPT_MODEL = \"gpt-3.5-turbo-1106\"\n",
    "\n",
    "\n",
    "OPENAI_API_KEY:str = dotenv_values(\".env\").get(\"OPENAI_API_KEY\")\n",
    "client:OpenAI = OpenAI(api_key=OPENAI_API_KEY)\n"
   ]
  },
  {
   "cell_type": "code",
   "execution_count": 22,
   "metadata": {},
   "outputs": [],
   "source": [
    "def show_json(obj):\n",
    "    return json.loads(obj.model_dump_json())"
   ]
  },
  {
   "cell_type": "code",
   "execution_count": 23,
   "metadata": {},
   "outputs": [
    {
     "data": {
      "text/plain": [
       "{'id': 'file-VoylOxXdcrWCUVOv6ZugxvTo',\n",
       " 'bytes': 48802,\n",
       " 'created_at': 1702503247,\n",
       " 'filename': 'zia_profile.pdf',\n",
       " 'object': 'file',\n",
       " 'purpose': 'assistants',\n",
       " 'status': 'processed',\n",
       " 'status_details': None}"
      ]
     },
     "metadata": {},
     "output_type": "display_data"
    }
   ],
   "source": [
    "file = client.files.create(\n",
    "    file=open(\"zia_profile.pdf\", \"rb\"),\n",
    "    purpose=\"assistants\"\n",
    ")\n",
    "\n",
    "display(show_json(file))"
   ]
  },
  {
   "cell_type": "code",
   "execution_count": 24,
   "metadata": {},
   "outputs": [
    {
     "data": {
      "text/plain": [
       "{'id': 'asst_tjpRjo2JFM2gAEyaGjz53pjP',\n",
       " 'created_at': 1702503249,\n",
       " 'description': None,\n",
       " 'file_ids': ['file-VoylOxXdcrWCUVOv6ZugxvTo'],\n",
       " 'instructions': 'You are a student support chatbot. Use your knowledge base to best respond to student queries about Zia',\n",
       " 'metadata': {},\n",
       " 'model': 'gpt-3.5-turbo-1106',\n",
       " 'name': 'Student Support Assistant',\n",
       " 'object': 'assistant',\n",
       " 'tools': [{'type': 'retrieval'}]}"
      ]
     },
     "metadata": {},
     "output_type": "display_data"
    }
   ],
   "source": [
    "from openai.types.beta.assistant import Assistant\n",
    "# You are a student support chatbot. Use your knowledge base to best respond to student queries about Zia \n",
    "assistant:Assistant = client.beta.assistants.create(\n",
    "    name=\"Student Support Assistant\",\n",
    "    instructions=\"You are a student support chatbot. Use your knowledge base to best respond to student queries about Zia\",\n",
    "    model=GPT_MODEL,\n",
    "    tools=[{\"type\":\"retrieval\"}],\n",
    "    file_ids=[file.id]\n",
    ")\n",
    "\n",
    "\n",
    "display(show_json(assistant))"
   ]
  },
  {
   "cell_type": "code",
   "execution_count": 25,
   "metadata": {},
   "outputs": [],
   "source": [
    "from openai.types.beta.thread import Thread\n",
    "thread:Thread =  client.beta.threads.create()"
   ]
  },
  {
   "cell_type": "code",
   "execution_count": 26,
   "metadata": {},
   "outputs": [
    {
     "data": {
      "text/plain": [
       "{'id': 'asst_tjpRjo2JFM2gAEyaGjz53pjP',\n",
       " 'created_at': 1702503249,\n",
       " 'description': None,\n",
       " 'file_ids': ['file-VoylOxXdcrWCUVOv6ZugxvTo'],\n",
       " 'instructions': 'You are a student support chatbot. Use your knowledge base to best respond to student queries about Zia',\n",
       " 'metadata': {},\n",
       " 'model': 'gpt-3.5-turbo-1106',\n",
       " 'name': 'Student Support Assistant',\n",
       " 'object': 'assistant',\n",
       " 'tools': [{'type': 'retrieval'}]}"
      ]
     },
     "metadata": {},
     "output_type": "display_data"
    }
   ],
   "source": [
    "from openai.types.beta.threads.thread_message import ThreadMessage\n",
    "\n",
    "message:ThreadMessage = client.beta.threads.messages.create(\n",
    "    thread_id=thread.id,\n",
    "    role=\"user\",\n",
    "    content=\"When and which city Zia U. Khan was born?\",\n",
    ")\n",
    "\n",
    "display(show_json(assistant))\n"
   ]
  },
  {
   "cell_type": "code",
   "execution_count": 27,
   "metadata": {},
   "outputs": [
    {
     "data": {
      "text/plain": [
       "{'id': 'run_niI6qb8ByGXePdOBraEfNtlU',\n",
       " 'assistant_id': 'asst_tjpRjo2JFM2gAEyaGjz53pjP',\n",
       " 'cancelled_at': None,\n",
       " 'completed_at': None,\n",
       " 'created_at': 1702503252,\n",
       " 'expires_at': 1702503852,\n",
       " 'failed_at': None,\n",
       " 'file_ids': ['file-VoylOxXdcrWCUVOv6ZugxvTo'],\n",
       " 'instructions': 'Please address the user as Pakistani. The user is the student of PIAIC.',\n",
       " 'last_error': None,\n",
       " 'metadata': {},\n",
       " 'model': 'gpt-3.5-turbo-1106',\n",
       " 'object': 'thread.run',\n",
       " 'required_action': None,\n",
       " 'started_at': None,\n",
       " 'status': 'queued',\n",
       " 'thread_id': 'thread_bd0LKzQbVZcEilHFIgKxtjE3',\n",
       " 'tools': [{'type': 'retrieval'}]}"
      ]
     },
     "metadata": {},
     "output_type": "display_data"
    }
   ],
   "source": [
    "from openai.types.beta.threads.run import Run\n",
    "run:Run = client.beta.threads.runs.create(\n",
    "    thread_id=thread.id,\n",
    "    assistant_id=assistant.id,\n",
    "    instructions=\"Please address the user as Pakistani. The user is the student of PIAIC.\"\n",
    ")\n",
    "display(show_json(run))\n"
   ]
  },
  {
   "cell_type": "code",
   "execution_count": 28,
   "metadata": {},
   "outputs": [
    {
     "data": {
      "text/plain": [
       "{'id': 'run_niI6qb8ByGXePdOBraEfNtlU',\n",
       " 'assistant_id': 'asst_tjpRjo2JFM2gAEyaGjz53pjP',\n",
       " 'cancelled_at': None,\n",
       " 'completed_at': None,\n",
       " 'created_at': 1702503252,\n",
       " 'expires_at': 1702503852,\n",
       " 'failed_at': None,\n",
       " 'file_ids': ['file-VoylOxXdcrWCUVOv6ZugxvTo'],\n",
       " 'instructions': 'Please address the user as Pakistani. The user is the student of PIAIC.',\n",
       " 'last_error': None,\n",
       " 'metadata': {},\n",
       " 'model': 'gpt-3.5-turbo-1106',\n",
       " 'object': 'thread.run',\n",
       " 'required_action': None,\n",
       " 'started_at': 1702503252,\n",
       " 'status': 'in_progress',\n",
       " 'thread_id': 'thread_bd0LKzQbVZcEilHFIgKxtjE3',\n",
       " 'tools': [{'type': 'retrieval'}]}"
      ]
     },
     "metadata": {},
     "output_type": "display_data"
    }
   ],
   "source": [
    "run:Run = client.beta.threads.runs.retrieve(\n",
    "    thread_id=thread.id,\n",
    "    run_id=run.id,\n",
    ")\n",
    "display(show_json(run))\n",
    "\n"
   ]
  },
  {
   "cell_type": "code",
   "execution_count": 30,
   "metadata": {},
   "outputs": [
    {
     "name": "stdout",
     "output_type": "stream",
     "text": [
      "user : When and which city Zia U. Khan was born?\n",
      "assistant : I'll check the file to find the information about Zia U. Khan's birth.\n"
     ]
    }
   ],
   "source": [
    "messages:list[ThreadMessage] =  client.beta.threads.messages.list(\n",
    "    thread_id=thread.id\n",
    ")\n",
    "\n",
    "for m in reversed(messages.data):\n",
    "    print(m.role + \" : \"+m.content[0].text.value)\n",
    "\n"
   ]
  },
  {
   "cell_type": "code",
   "execution_count": null,
   "metadata": {},
   "outputs": [],
   "source": []
  }
 ],
 "metadata": {
  "kernelspec": {
   "display_name": "python-env-12",
   "language": "python",
   "name": "python3"
  },
  "language_info": {
   "codemirror_mode": {
    "name": "ipython",
    "version": 3
   },
   "file_extension": ".py",
   "mimetype": "text/x-python",
   "name": "python",
   "nbconvert_exporter": "python",
   "pygments_lexer": "ipython3",
   "version": "3.12.0"
  }
 },
 "nbformat": 4,
 "nbformat_minor": 2
}
