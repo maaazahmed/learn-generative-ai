{
 "cells": [
  {
   "cell_type": "markdown",
   "metadata": {},
   "source": [
    "# Function Calling"
   ]
  },
  {
   "cell_type": "code",
   "execution_count": 19,
   "metadata": {},
   "outputs": [],
   "source": [
    "from openai import OpenAI\n",
    "import json\n",
    "from dotenv import dotenv_values\n",
    "\n",
    "client:OpenAI = OpenAI(api_key=dotenv_values(\".env\").get(\"OPENAI_API_KEY\"))\n",
    "GPT_MODEL = \"gpt-3.5-turbo-1106\""
   ]
  },
  {
   "cell_type": "code",
   "execution_count": 20,
   "metadata": {},
   "outputs": [],
   "source": [
    "# Example dummy function hard coded to return the same weather\n",
    "# In production, this could be your backend API or an external API\n",
    "\n",
    "def get_current_weather(location:str, unit:str = \"fahrenheit\")->str:\n",
    "    \"\"\"Get the current weather in a given location\"\"\"\n",
    "    if \"tokyo\" == location.lower():\n",
    "        return json.dumps({\"location\":\"Tokyo\", \"temperature\":\"50\", \"unit\":\"fahrenheit\"})\n",
    "    elif \"san francisco\" == location.lower():\n",
    "        return json.dumps({\"location\":\"san francisco\",\"temperature\":\"40\", \"unit\":\"fahrenheit\" })\n",
    "    else:\n",
    "        return json.dumps({\"location\":\"Pakistan\",\"temperature\":\"40\", \"unit\":\"fahrenheit\" })\n"
   ]
  },
  {
   "cell_type": "code",
   "execution_count": 95,
   "metadata": {},
   "outputs": [
    {
     "data": {
      "text/plain": [
       "'* First Response: '"
      ]
     },
     "metadata": {},
     "output_type": "display_data"
    },
    {
     "data": {
      "text/plain": [
       "{'content': None,\n",
       " 'role': 'assistant',\n",
       " 'function_call': None,\n",
       " 'tool_calls': [ChatCompletionMessageToolCall(id='call_LVxE59SRQKkSWdrzNfnla8M0', function=Function(arguments='{\"location\":\"Pakistan\",\"unit\":\"celsius\"}', name='get_current_weather'), type='function')]}"
      ]
     },
     "metadata": {},
     "output_type": "display_data"
    },
    {
     "data": {
      "text/plain": [
       "'* First Reponse Tool Calls: '"
      ]
     },
     "metadata": {},
     "output_type": "display_data"
    },
    {
     "data": {
      "text/plain": [
       "[ChatCompletionMessageToolCall(id='call_LVxE59SRQKkSWdrzNfnla8M0', function=Function(arguments='{\"location\":\"Pakistan\",\"unit\":\"celsius\"}', name='get_current_weather'), type='function')]"
      ]
     },
     "metadata": {},
     "output_type": "display_data"
    },
    {
     "data": {
      "text/plain": [
       "'* Second Response: '"
      ]
     },
     "metadata": {},
     "output_type": "display_data"
    },
    {
     "data": {
      "text/plain": [
       "{'id': 'chatcmpl-8SXJz7INKFhjr2TNE6WqKtaRGcxqO',\n",
       " 'choices': [Choice(finish_reason='stop', index=0, message=ChatCompletionMessage(content='The current weather in Pakistan is 40 degrees Celsius (104 degrees Fahrenheit).', role='assistant', function_call=None, tool_calls=None))],\n",
       " 'created': 1701811963,\n",
       " 'model': 'gpt-3.5-turbo-1106',\n",
       " 'object': 'chat.completion',\n",
       " 'system_fingerprint': 'fp_eeff13170a',\n",
       " 'usage': CompletionUsage(completion_tokens=15, prompt_tokens=63, total_tokens=78)}"
      ]
     },
     "metadata": {},
     "output_type": "display_data"
    },
    {
     "data": {
      "text/plain": [
       "'The current weather in Pakistan is 40 degrees Celsius (104 degrees Fahrenheit).'"
      ]
     },
     "execution_count": 95,
     "metadata": {},
     "output_type": "execute_result"
    }
   ],
   "source": [
    "from openai.types.chat.chat_completion import ChatCompletionMessage, ChatCompletion\n",
    "from typing import Union\n",
    "\n",
    "def run_conversation(main_request:str)->str:\n",
    "    messages:list[dict[str, str]] = [{\"role\":\"user\", \"content\":main_request}]\n",
    "    tools:list[dict[str, Union[str, dict]]] = [\n",
    "        {\n",
    "            \"type\":\"function\",\n",
    "            \"function\":{\n",
    "                \"name\":\"get_current_weather\",\n",
    "                \"description\":\"Get the current weather in a given location\",\n",
    "                \"parameters\":{\n",
    "                    \"type\":\"object\",\n",
    "                    \"properties\":{\n",
    "                        \"location\":{\n",
    "                            \"type\":\"string\",\n",
    "                            \"description\":\"The city and state, e.g. San Francisco, CA\"\n",
    "                        },\n",
    "                        \"unit\":{\"type\":\"string\",\"enum\":[\"celsius\",\"fahrenheit\"]}\n",
    "                    },\n",
    "                    \"required\":[\"location\"]\n",
    "                }\n",
    "            }\n",
    "        }\n",
    "    ]\n",
    "\n",
    "    response:ChatCompletion = client.chat.completions.create(\n",
    "        model=GPT_MODEL,\n",
    "        messages=messages,\n",
    "        tools=tools,\n",
    "        tool_choice=\"auto\"\n",
    "    )\n",
    "    response_message:ChatCompletionMessage = response.choices[0].message\n",
    "    display(\"* First Response: \",dict(response_message))\n",
    "\n",
    "    tool_calls = response_message.tool_calls\n",
    "    display(\"* First Reponse Tool Calls: \",tool_calls)\n",
    "\n",
    "    if tool_calls:\n",
    "         available_functions={\n",
    "              \"get_current_weather\":get_current_weather\n",
    "         }\n",
    "\n",
    "         messages.append(response_message)\n",
    "\n",
    "         for tool_call in tool_calls:\n",
    "             function_name = tool_call.function.name\n",
    "             function_to_call = available_functions[function_name]\n",
    "             function_args =json.loads(tool_call.function.arguments)\n",
    "             function_response = function_to_call(\n",
    "                 location = function_args.get(\"location\"),\n",
    "                 unit =  function_args.get(\"unit\")\n",
    "             )\n",
    "             messages.append({\n",
    "                 \"tool_call_id\":tool_call.id,\n",
    "                 \"role\": \"tool\",\n",
    "                 \"name\":function_name,\n",
    "                 \"content\":function_response\n",
    "             })\n",
    "       \n",
    "         second_response:ChatCompletion = client.chat.completions.create(\n",
    "             model=GPT_MODEL,\n",
    "             messages=messages,\n",
    "         )\n",
    "\n",
    "         display(\"* Second Response: \", dict(second_response))\n",
    "         return second_response.choices[0].message.content\n",
    "\n",
    "\n",
    "\n",
    "             \n",
    "              \n",
    "\n",
    "\n"
   ]
  },
  {
   "cell_type": "code",
   "execution_count": 98,
   "metadata": {},
   "outputs": [
    {
     "data": {
      "text/plain": [
       "'* First Response: '"
      ]
     },
     "metadata": {},
     "output_type": "display_data"
    },
    {
     "data": {
      "text/plain": [
       "{'content': None,\n",
       " 'role': 'assistant',\n",
       " 'function_call': None,\n",
       " 'tool_calls': [ChatCompletionMessageToolCall(id='call_AjHiCV1tKhAWtJ72GCCougC3', function=Function(arguments='{\"location\":\"Pakistan\",\"unit\":\"celsius\"}', name='get_current_weather'), type='function')]}"
      ]
     },
     "metadata": {},
     "output_type": "display_data"
    },
    {
     "data": {
      "text/plain": [
       "'* First Reponse Tool Calls: '"
      ]
     },
     "metadata": {},
     "output_type": "display_data"
    },
    {
     "data": {
      "text/plain": [
       "[ChatCompletionMessageToolCall(id='call_AjHiCV1tKhAWtJ72GCCougC3', function=Function(arguments='{\"location\":\"Pakistan\",\"unit\":\"celsius\"}', name='get_current_weather'), type='function')]"
      ]
     },
     "metadata": {},
     "output_type": "display_data"
    },
    {
     "data": {
      "text/plain": [
       "'* Second Response: '"
      ]
     },
     "metadata": {},
     "output_type": "display_data"
    },
    {
     "data": {
      "text/plain": [
       "{'id': 'chatcmpl-8SXNdwn35VkISjF1CzE8XJKImnG29',\n",
       " 'choices': [Choice(finish_reason='stop', index=0, message=ChatCompletionMessage(content='The current temperature in Pakistan is 40 degrees Celsius (104 degrees Fahrenheit).', role='assistant', function_call=None, tool_calls=None))],\n",
       " 'created': 1701812189,\n",
       " 'model': 'gpt-3.5-turbo-1106',\n",
       " 'object': 'chat.completion',\n",
       " 'system_fingerprint': 'fp_eeff13170a',\n",
       " 'usage': CompletionUsage(completion_tokens=15, prompt_tokens=63, total_tokens=78)}"
      ]
     },
     "metadata": {},
     "output_type": "display_data"
    },
    {
     "data": {
      "text/plain": [
       "'The current temperature in Pakistan is 40 degrees Celsius (104 degrees Fahrenheit).'"
      ]
     },
     "execution_count": 98,
     "metadata": {},
     "output_type": "execute_result"
    }
   ],
   "source": [
    "run_conversation(\"What's the weather like in Pakistan?\")\n"
   ]
  },
  {
   "cell_type": "code",
   "execution_count": null,
   "metadata": {},
   "outputs": [],
   "source": []
  }
 ],
 "metadata": {
  "kernelspec": {
   "display_name": "python-env-12",
   "language": "python",
   "name": "python3"
  },
  "language_info": {
   "codemirror_mode": {
    "name": "ipython",
    "version": 3
   },
   "file_extension": ".py",
   "mimetype": "text/x-python",
   "name": "python",
   "nbconvert_exporter": "python",
   "pygments_lexer": "ipython3",
   "version": "3.12.0"
  }
 },
 "nbformat": 4,
 "nbformat_minor": 2
}
