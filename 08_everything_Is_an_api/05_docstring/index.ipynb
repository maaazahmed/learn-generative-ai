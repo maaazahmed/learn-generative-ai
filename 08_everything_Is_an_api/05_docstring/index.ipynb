{
 "cells": [
  {
   "cell_type": "code",
   "execution_count": 1,
   "metadata": {},
   "outputs": [],
   "source": [
    "from typing import Callable\n",
    "\n",
    "def calculate(num1: int, num2: int) -> int:\n",
    "  result = num1 + num2\n",
    "  return result\n"
   ]
  },
  {
   "cell_type": "code",
   "execution_count": 4,
   "metadata": {},
   "outputs": [
    {
     "data": {
      "text/plain": [
       "{0: 'Maaz', 1: 'Ahmed'}"
      ]
     },
     "execution_count": 4,
     "metadata": {},
     "output_type": "execute_result"
    }
   ],
   "source": [
    "def make_dict(list_of_tuples):\n",
    "    \"\"\"\n",
    "    this function takes a list of tuples and returns a dictionary\n",
    "    :param list_of_tuples: list of tuples\n",
    "    :return: dictionary\n",
    "    \"\"\"\n",
    "    dictionary = {}\n",
    "    for tuple in list_of_tuples:\n",
    "        dictionary[tuple[0]] = tuple[1]\n",
    "    return dictionary \n",
    "\n",
    "make_dict([(0,\"Maaz\"),(1,\"Ahmed\")])"
   ]
  },
  {
   "cell_type": "code",
   "execution_count": 6,
   "metadata": {},
   "outputs": [
    {
     "name": "stdout",
     "output_type": "stream",
     "text": [
      "2\n",
      "4\n",
      "6\n",
      "8\n",
      "10\n",
      "12\n",
      "14\n",
      "16\n",
      "18\n",
      "20\n"
     ]
    }
   ],
   "source": [
    "def table_of_number(table, end):\n",
    "    \"\"\"\n",
    "    this function takes 2 number 1st one is table lit table of 2 and second number is end of table like 2 * 20\n",
    "    :param table: table of 2\n",
    "    :param end: end of table\n",
    "    :return: table of 2\n",
    "    \"\"\"\n",
    "    for i in range(1, end + 1):\n",
    "        print(table * i)\n",
    "\n",
    "table_of_number(2, 10)"
   ]
  },
  {
   "cell_type": "code",
   "execution_count": null,
   "metadata": {},
   "outputs": [],
   "source": [
    "# create a login function that takes username and password and check this user is in users list\n",
    "users = [\n",
    "    {\n",
    "        \"email\": \"admin@example.com\", \"username\":\"test\", \"password\":\"test\"},\n",
    "        {\"email\": \"admin@example.com\", \"username\":\"XXXX\", \"password\":\"test\"},\n",
    "        {\"email\": \"admin@example.com\", \"username\":\"XXXXX\", \"password\":\"XXXXX\"},\n",
    "        {\"email\": \"admin@example.com\", \"username\":\"XXXXXX\", \"password\":\"XXXXXX\"},\n",
    "        {\"email\": \"admin@example.com\", \"username\":\"XXXXXXX\", \"password\":\"XXXXXXX\"},\n",
    "\n",
    "]  \n",
    "\n",
    "def login(username, password):\n",
    "    \"\"\" this function takes username and password and check this user is in users list\n",
    "    :param username: str\n",
    "    :param password: str\n",
    "    :return: bool\n",
    "     \"\"\"\n",
    "    if username in users:\n",
    "        if password == users[username]:\n",
    "            return True\n",
    "    return False"
   ]
  }
 ],
 "metadata": {
  "kernelspec": {
   "display_name": "python-env-12",
   "language": "python",
   "name": "python3"
  },
  "language_info": {
   "codemirror_mode": {
    "name": "ipython",
    "version": 3
   },
   "file_extension": ".py",
   "mimetype": "text/x-python",
   "name": "python",
   "nbconvert_exporter": "python",
   "pygments_lexer": "ipython3",
   "version": "3.12.0"
  }
 },
 "nbformat": 4,
 "nbformat_minor": 2
}
