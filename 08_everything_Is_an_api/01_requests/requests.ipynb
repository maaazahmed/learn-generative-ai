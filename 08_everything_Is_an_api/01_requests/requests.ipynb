{
 "cells": [
  {
   "cell_type": "markdown",
   "metadata": {},
   "source": [
    "# Introduction to HTTP Requests with Python Requests\n",
    "\n",
    "In this tutorial, we will learn how to make HTTP requests in Python using the `requests` library. We will use a simple book API for demonstration purposes.\n",
    "\n",
    "## API Documentation\n",
    "\n",
    "The API we will use is the [Simple Books API](https://github.com/vdespa/introduction-to-postman-course/blob/main/simple-books-api.md). Refer to this documentation for information on available endpoints and their functionalities.\n",
    "\n",
    "## Python Requests Library\n",
    "\n",
    "We will be using the [Requests library](https://requests.readthedocs.io/en/latest/) for making HTTP requests. If you don't have it installed, you can install it using the following command:\n",
    "\n",
    "```python\n",
    "!pip install requests"
   ]
  },
  {
   "cell_type": "code",
   "execution_count": 7,
   "metadata": {},
   "outputs": [],
   "source": [
    "import requests"
   ]
  },
  {
   "cell_type": "code",
   "execution_count": 15,
   "metadata": {},
   "outputs": [
    {
     "data": {
      "text/plain": [
       "'Response:'"
      ]
     },
     "metadata": {},
     "output_type": "display_data"
    },
    {
     "data": {
      "text/plain": [
       "<Response [200]>"
      ]
     },
     "metadata": {},
     "output_type": "display_data"
    },
    {
     "data": {
      "text/plain": [
       "'Status code:'"
      ]
     },
     "metadata": {},
     "output_type": "display_data"
    },
    {
     "data": {
      "text/plain": [
       "200"
      ]
     },
     "metadata": {},
     "output_type": "display_data"
    },
    {
     "data": {
      "text/plain": [
       "'Json:'"
      ]
     },
     "metadata": {},
     "output_type": "display_data"
    },
    {
     "data": {
      "text/plain": [
       "{'status': 'OK'}"
      ]
     },
     "metadata": {},
     "output_type": "display_data"
    },
    {
     "data": {
      "text/plain": [
       "dict"
      ]
     },
     "metadata": {},
     "output_type": "display_data"
    },
    {
     "data": {
      "text/plain": [
       "'OK'"
      ]
     },
     "metadata": {},
     "output_type": "display_data"
    },
    {
     "data": {
      "text/plain": [
       "'Text'"
      ]
     },
     "metadata": {},
     "output_type": "display_data"
    },
    {
     "data": {
      "text/plain": [
       "'{\"status\":\"OK\"}'"
      ]
     },
     "metadata": {},
     "output_type": "display_data"
    },
    {
     "data": {
      "text/plain": [
       "str"
      ]
     },
     "metadata": {},
     "output_type": "display_data"
    },
    {
     "data": {
      "text/plain": [
       "'response.headers'"
      ]
     },
     "metadata": {},
     "output_type": "display_data"
    },
    {
     "data": {
      "text/plain": [
       "'application/json; charset=utf-8'"
      ]
     },
     "metadata": {},
     "output_type": "display_data"
    }
   ],
   "source": [
    "from requests.models import Response\n",
    "from  requests.structures import CaseInsensitiveDict\n",
    "\n",
    "# [status_code, json_obj, text, headers]\n",
    "response:Response = requests.get(\"https://simple-books-api.glitch.me/status\")\n",
    "display(\"Response:\", response)\n",
    "\n",
    "status_code:int = response.status_code\n",
    "display(\"Status code:\", status_code)\n",
    "\n",
    "json_obj:dict = response.json()\n",
    "display(\"Json:\", json_obj, type(json_obj), json_obj[\"status\"])\n",
    "\n",
    "text:str =  response.text\n",
    "display(\"Text\", text, type(text))\n",
    "\n",
    "headers:CaseInsensitiveDict = response.headers\n",
    "display(\"response.headers\", headers)\n"
   ]
  }
 ],
 "metadata": {
  "kernelspec": {
   "display_name": "python-env-12",
   "language": "python",
   "name": "python3"
  },
  "language_info": {
   "codemirror_mode": {
    "name": "ipython",
    "version": 3
   },
   "file_extension": ".py",
   "mimetype": "text/x-python",
   "name": "python",
   "nbconvert_exporter": "python",
   "pygments_lexer": "ipython3",
   "version": "3.12.0"
  }
 },
 "nbformat": 4,
 "nbformat_minor": 2
}
