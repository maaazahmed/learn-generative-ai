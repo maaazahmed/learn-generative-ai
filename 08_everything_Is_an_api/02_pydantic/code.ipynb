{
 "cells": [
  {
   "cell_type": "code",
   "execution_count": 33,
   "metadata": {},
   "outputs": [
    {
     "name": "stdout",
     "output_type": "stream",
     "text": [
      "Requirement already satisfied: pydantic in /home/maaz/anaconda3/envs/python-env-12/lib/python3.12/site-packages (from -r requirements.txt (line 1)) (2.5.2)\n",
      "Requirement already satisfied: email-validator in /home/maaz/anaconda3/envs/python-env-12/lib/python3.12/site-packages (from -r requirements.txt (line 2)) (2.1.0.post1)\n",
      "Requirement already satisfied: annotated-types>=0.4.0 in /home/maaz/anaconda3/envs/python-env-12/lib/python3.12/site-packages (from pydantic->-r requirements.txt (line 1)) (0.6.0)\n",
      "Requirement already satisfied: pydantic-core==2.14.5 in /home/maaz/anaconda3/envs/python-env-12/lib/python3.12/site-packages (from pydantic->-r requirements.txt (line 1)) (2.14.5)\n",
      "Requirement already satisfied: typing-extensions>=4.6.1 in /home/maaz/anaconda3/envs/python-env-12/lib/python3.12/site-packages (from pydantic->-r requirements.txt (line 1)) (4.8.0)\n",
      "Requirement already satisfied: dnspython>=2.0.0 in /home/maaz/anaconda3/envs/python-env-12/lib/python3.12/site-packages (from email-validator->-r requirements.txt (line 2)) (2.4.2)\n",
      "Requirement already satisfied: idna>=2.0.0 in /home/maaz/anaconda3/envs/python-env-12/lib/python3.12/site-packages (from email-validator->-r requirements.txt (line 2)) (3.4)\n"
     ]
    }
   ],
   "source": [
    "! pip install -r requirements.txt"
   ]
  },
  {
   "cell_type": "code",
   "execution_count": 34,
   "metadata": {},
   "outputs": [
    {
     "name": "stdout",
     "output_type": "stream",
     "text": [
      "datetime.datetime(2020, 1, 2, 3, 4, 5, tzinfo=TzInfo(UTC))\n",
      "(12, 12)\n"
     ]
    }
   ],
   "source": [
    "from  datetime import datetime\n",
    "from typing import Tuple\n",
    "\n",
    "from  pydantic import BaseModel\n",
    "\n",
    "class Delivery(BaseModel):\n",
    "    timestamp:datetime\n",
    "    dimensions:Tuple[int, int]\n",
    "\n",
    "m:Delivery = Delivery(timestamp=\"2020-01-02T03:04:05Z\",dimensions=[12,12] )    \n",
    "\n",
    "print(repr(m.timestamp))\n",
    "print(m.dimensions)\n",
    "\n",
    "\n",
    "\n"
   ]
  },
  {
   "cell_type": "code",
   "execution_count": 35,
   "metadata": {},
   "outputs": [
    {
     "name": "stdout",
     "output_type": "stream",
     "text": [
      "{'id': 1, 'name': 'maaz', 'signup_ts': '2019-06-01 12:22', 'tastes': {'wine': 9, b'cheese': 7, 'cabbage': '1'}}\n",
      "id=1 name='maaz' signup_ts=datetime.datetime(2019, 6, 1, 12, 22) tastes={'wine': 9, 'cheese': 7, 'cabbage': 1}\n"
     ]
    }
   ],
   "source": [
    "from datetime import datetime \n",
    "from pydantic import BaseModel, PositiveInt\n",
    "\n",
    "class User(BaseModel):\n",
    "    id:int\n",
    "    name:str\n",
    "    signup_ts:datetime | None\n",
    "    tastes:dict[str, PositiveInt]\n",
    "\n",
    "\n",
    "ext_data = {\n",
    "    \"id\":1,\n",
    "    \"name\":\"maaz\",\n",
    "    \"signup_ts\":\"2019-06-01 12:22\",\n",
    "    \"tastes\":{\n",
    "         'wine': 9,\n",
    "        b'cheese': 7,  \n",
    "        'cabbage': '1',  \n",
    "    }\n",
    "}\n",
    "\n",
    "print(ext_data)\n",
    "usr = User(**ext_data)\n",
    "\n",
    "print(usr)"
   ]
  },
  {
   "cell_type": "code",
   "execution_count": 36,
   "metadata": {},
   "outputs": [
    {
     "data": {
      "text/plain": [
       "[{'type': 'missing',\n",
       "  'loc': ('signup_ts',),\n",
       "  'msg': 'Field required',\n",
       "  'input': {'id': 3, 'tastes': {}},\n",
       "  'url': 'https://errors.pydantic.dev/2.5/v/missing'}]"
      ]
     },
     "metadata": {},
     "output_type": "display_data"
    }
   ],
   "source": [
    "from pydantic import ValidationError\n",
    "\n",
    "\n",
    "class User(BaseModel):\n",
    "    id: int\n",
    "    name: str = 'John Doe'\n",
    "    signup_tsignup_tss: datetime | None\n",
    "    tastes: dict[str, PositiveInt]\n",
    "\n",
    "external_data = {'id': 3, 'tastes': {}}  \n",
    "\n",
    "try:\n",
    "    User(**external_data)  \n",
    "except ValidationError as e:\n",
    "    display(e.errors())"
   ]
  },
  {
   "cell_type": "code",
   "execution_count": null,
   "metadata": {},
   "outputs": [],
   "source": []
  }
 ],
 "metadata": {
  "kernelspec": {
   "display_name": "python-env-12",
   "language": "python",
   "name": "python3"
  },
  "language_info": {
   "codemirror_mode": {
    "name": "ipython",
    "version": 3
   },
   "file_extension": ".py",
   "mimetype": "text/x-python",
   "name": "python",
   "nbconvert_exporter": "python",
   "pygments_lexer": "ipython3",
   "version": "3.12.0"
  }
 },
 "nbformat": 4,
 "nbformat_minor": 2
}
