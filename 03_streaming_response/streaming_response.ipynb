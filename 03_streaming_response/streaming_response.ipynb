{
 "cells": [
  {
   "cell_type": "code",
   "execution_count": 3,
   "metadata": {},
   "outputs": [],
   "source": [
    "from openai import OpenAI\n",
    "from  dotenv import dotenv_values\n",
    "\n",
    "OPENAI_API_KEY:bool = dotenv_values(\".env\").get(\"OPENAI_API_KEY\")\n",
    "client:OpenAI = OpenAI(api_key=OPENAI_API_KEY)"
   ]
  },
  {
   "cell_type": "code",
   "execution_count": 8,
   "metadata": {},
   "outputs": [
    {
     "name": "stdout",
     "output_type": "stream",
     "text": [
      "ChatCompletionChunk(id='chatcmpl-8QUwDOofczV92PmZTAX7kssTVOcVo', choices=[Choice(delta=ChoiceDelta(content='', function_call=None, role='assistant', tool_calls=None), finish_reason=None, index=0)], created=1701326145, model='gpt-3.5-turbo-1106', object='chat.completion.chunk', system_fingerprint='fp_eeff13170a')\n",
      "ChatCompletionChunk(id='chatcmpl-8QUwDOofczV92PmZTAX7kssTVOcVo', choices=[Choice(delta=ChoiceDelta(content='This', function_call=None, role=None, tool_calls=None), finish_reason=None, index=0)], created=1701326145, model='gpt-3.5-turbo-1106', object='chat.completion.chunk', system_fingerprint='fp_eeff13170a')\n",
      "ChatCompletionChunk(id='chatcmpl-8QUwDOofczV92PmZTAX7kssTVOcVo', choices=[Choice(delta=ChoiceDelta(content=' is', function_call=None, role=None, tool_calls=None), finish_reason=None, index=0)], created=1701326145, model='gpt-3.5-turbo-1106', object='chat.completion.chunk', system_fingerprint='fp_eeff13170a')\n",
      "ChatCompletionChunk(id='chatcmpl-8QUwDOofczV92PmZTAX7kssTVOcVo', choices=[Choice(delta=ChoiceDelta(content=' a', function_call=None, role=None, tool_calls=None), finish_reason=None, index=0)], created=1701326145, model='gpt-3.5-turbo-1106', object='chat.completion.chunk', system_fingerprint='fp_eeff13170a')\n",
      "ChatCompletionChunk(id='chatcmpl-8QUwDOofczV92PmZTAX7kssTVOcVo', choices=[Choice(delta=ChoiceDelta(content=' test', function_call=None, role=None, tool_calls=None), finish_reason=None, index=0)], created=1701326145, model='gpt-3.5-turbo-1106', object='chat.completion.chunk', system_fingerprint='fp_eeff13170a')\n",
      "ChatCompletionChunk(id='chatcmpl-8QUwDOofczV92PmZTAX7kssTVOcVo', choices=[Choice(delta=ChoiceDelta(content=None, function_call=None, role=None, tool_calls=None), finish_reason='stop', index=0)], created=1701326145, model='gpt-3.5-turbo-1106', object='chat.completion.chunk', system_fingerprint='fp_eeff13170a')\n"
     ]
    }
   ],
   "source": [
    "from openai import ChatCompletion\n",
    "\n",
    "\n",
    "def chat_completion_stream():\n",
    "    stream:ChatCompletion = client.chat.completions.create(\n",
    "        messages=[\n",
    "            {\n",
    "                \"role\":\"user\",\n",
    "                \"content\":\"Say this is a test\"\n",
    "            },\n",
    "          ],\n",
    "        model=\"gpt-3.5-turbo-1106\",\n",
    "        stream=True\n",
    "    )\n",
    "    for part in stream:\n",
    "        print(part)\n",
    "chat_completion_stream()"
   ]
  },
  {
   "cell_type": "code",
   "execution_count": null,
   "metadata": {},
   "outputs": [],
   "source": []
  },
  {
   "cell_type": "code",
   "execution_count": null,
   "metadata": {},
   "outputs": [],
   "source": []
  }
 ],
 "metadata": {
  "kernelspec": {
   "display_name": "python-env-12",
   "language": "python",
   "name": "python3"
  },
  "language_info": {
   "codemirror_mode": {
    "name": "ipython",
    "version": 3
   },
   "file_extension": ".py",
   "mimetype": "text/x-python",
   "name": "python",
   "nbconvert_exporter": "python",
   "pygments_lexer": "ipython3",
   "version": "3.12.0"
  }
 },
 "nbformat": 4,
 "nbformat_minor": 2
}
