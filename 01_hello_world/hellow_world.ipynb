{
 "cells": [
  {
   "cell_type": "code",
   "execution_count": 97,
   "metadata": {},
   "outputs": [],
   "source": [
    "from openai import OpenAI\n",
    "from dotenv import  find_dotenv, load_dotenv, dotenv_values\n",
    "\n",
    "_:bool  = load_dotenv(find_dotenv())\n",
    "\n",
    "client:OpenAI = OpenAI(api_key=dotenv_values(\".env\").get(\"OPENAI_API_KEY\"))\n"
   ]
  },
  {
   "cell_type": "markdown",
   "metadata": {},
   "source": [
    "Watch Class 1 Video:\n",
    "\n",
    "https://www.youtube.com/watch?v=FwARACe8M_4\n",
    "\n",
    "UIT wifi password uit91258\n",
    "We will learn OpenAI API: https://github.com/openai/openai-python\n",
    "We will create a new envirnoment and activate it:\n",
    "conda create --name myopenai python=3.11.5\n",
    "conda env list\n",
    "conda activate myopenai\n",
    "python --version\n",
    "install packages from requirements.txt\n",
    "pip install -r requirements.txt"
   ]
  },
  {
   "cell_type": "code",
   "execution_count": 98,
   "metadata": {},
   "outputs": [
    {
     "data": {
      "text/plain": [
       "'1+1 equals 2.'"
      ]
     },
     "execution_count": 98,
     "metadata": {},
     "output_type": "execute_result"
    }
   ],
   "source": [
    "from openai.types.chat.chat_completion import ChatCompletion\n",
    "\n",
    "def chat_completion(prompt : str )-> str:\n",
    "    response:ChatCompletion = client.chat.completions.create(\n",
    "        messages=[\n",
    "          {  \n",
    "          \"role\":\"user\",\n",
    "           \"content\":prompt\n",
    "           }\n",
    "    ], model=\"gpt-3.5-turbo-1106\")\n",
    "    return response.choices[0].message.content\n",
    "\n",
    "chat_completion(\"what is 1+1?\")"
   ]
  },
  {
   "cell_type": "code",
   "execution_count": null,
   "metadata": {},
   "outputs": [],
   "source": []
  },
  {
   "cell_type": "code",
   "execution_count": null,
   "metadata": {},
   "outputs": [],
   "source": []
  }
 ],
 "metadata": {
  "kernelspec": {
   "display_name": "myenv3_12",
   "language": "python",
   "name": "python3"
  },
  "language_info": {
   "codemirror_mode": {
    "name": "ipython",
    "version": 3
   },
   "file_extension": ".py",
   "mimetype": "text/x-python",
   "name": "python",
   "nbconvert_exporter": "python",
   "pygments_lexer": "ipython3",
   "version": "3.12.0"
  }
 },
 "nbformat": 4,
 "nbformat_minor": 2
}
