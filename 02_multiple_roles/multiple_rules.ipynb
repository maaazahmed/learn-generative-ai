{
 "cells": [
  {
   "cell_type": "code",
   "execution_count": 11,
   "metadata": {},
   "outputs": [],
   "source": [
    "from openai import OpenAI\n",
    "from dotenv import dotenv_values \n",
    "\n",
    "\n",
    "client:OpenAI = OpenAI(api_key=dotenv_values(\".env\").get(\"OPENAI_API_KEY\"))\n",
    "gpt_modal:str = \"gpt-3.5-turbo-1106\""
   ]
  },
  {
   "cell_type": "code",
   "execution_count": 14,
   "metadata": {},
   "outputs": [
    {
     "name": "stdout",
     "output_type": "stream",
     "text": [
      "In the land of code, a concept trine,\n",
      "Exists a loop of a different kind.\n",
      "Recursion, its name, a recursive call,\n",
      "A process through which program does enthral.\n",
      "\n",
      "A function, it calls itself, you see,\n",
      "To solve problems in elegant decree.\n",
      "Like a Russian doll, nested and nested,\n",
      "The solution within, beautifully rested.\n",
      "\n",
      "Infinite loops may shroud the thought,\n",
      "But base case rescues, as it ought.\n",
      "Solving problems in iterative fashion,\n",
      "A dance of self-calling, a coding passion.\n",
      "\n",
      "Through trees and lists, and mazes deep,\n",
      "Recursion finds problems it can sweep.\n",
      "With elegance and grace, it loops and whirls,\n",
      "A recursive dance, in coding worlds unfurls.\n",
      "\n",
      "So, in the realm of code and creation,\n",
      "Recursion weaves its elegant sensation.\n",
      "A loop within a loop, it does blend,\n",
      "A concept profound, from beginning to end.\n"
     ]
    }
   ],
   "source": [
    "from openai import ChatCompletion\n",
    "\n",
    "\n",
    "def chat_completion()->str:\n",
    "    response:ChatCompletion =  client.chat.completions.create(\n",
    "        messages=[\n",
    "            {\"role\":\"system\",\"content\":\"You are a poetic assistant, skilled in explaining complex programming concepts with creative flair.\"},\n",
    "            {\"role\":\"user\",\"content\":\"Compose a poem that explains the concept of recursion in programming.\"}\n",
    "        ],\n",
    "        model=gpt_modal\n",
    "    )\n",
    "    return response.choices[0].message.content\n",
    "print(chat_completion())"
   ]
  },
  {
   "cell_type": "code",
   "execution_count": null,
   "metadata": {},
   "outputs": [],
   "source": []
  },
  {
   "cell_type": "code",
   "execution_count": null,
   "metadata": {},
   "outputs": [],
   "source": []
  },
  {
   "cell_type": "code",
   "execution_count": null,
   "metadata": {},
   "outputs": [],
   "source": []
  }
 ],
 "metadata": {
  "kernelspec": {
   "display_name": "python-env-12",
   "language": "python",
   "name": "python3"
  },
  "language_info": {
   "codemirror_mode": {
    "name": "ipython",
    "version": 3
   },
   "file_extension": ".py",
   "mimetype": "text/x-python",
   "name": "python",
   "nbconvert_exporter": "python",
   "pygments_lexer": "ipython3",
   "version": "3.12.0"
  }
 },
 "nbformat": 4,
 "nbformat_minor": 2
}
