{
 "cells": [
  {
   "cell_type": "code",
   "execution_count": 10,
   "metadata": {},
   "outputs": [],
   "source": [
    "from openai import OpenAI\n",
    "from dotenv import  find_dotenv, load_dotenv, dotenv_values\n",
    "\n",
    "_:bool  = load_dotenv(find_dotenv())\n",
    "client:OpenAI = OpenAI(api_key=\"\")\n"
   ]
  },
  {
   "cell_type": "code",
   "execution_count": 11,
   "metadata": {},
   "outputs": [
    {
     "data": {
      "text/plain": [
       "'1+1 equals 2.'"
      ]
     },
     "execution_count": 11,
     "metadata": {},
     "output_type": "execute_result"
    }
   ],
   "source": [
    "from openai.types.chat.chat_completion import ChatCompletion\n",
    "\n",
    "def chat_completion(prompt : str )-> str:\n",
    "    response:ChatCompletion = client.chat.completions.create(\n",
    "        messages=[\n",
    "          {  \n",
    "          \"role\":\"user\",\n",
    "           \"content\":prompt\n",
    "           }\n",
    "    ], model=\"gpt-3.5-turbo-1106\")\n",
    "    return response.choices[0].message.content\n",
    "\n",
    "chat_completion(\"what is 1+1?\")"
   ]
  },
  {
   "cell_type": "code",
   "execution_count": 13,
   "metadata": {},
   "outputs": [
    {
     "name": "stdout",
     "output_type": "stream",
     "text": [
      "ChatCompletionChunk(id='chatcmpl-8cbVi9NK5PYz1vNVKrwn716EMReDy', choices=[Choice(delta=ChoiceDelta(content='', function_call=None, role='assistant', tool_calls=None), finish_reason=None, index=0, logprobs=None)], created=1704211346, model='gpt-3.5-turbo-1106', object='chat.completion.chunk', system_fingerprint='fp_772e8125bb')\n",
      "ChatCompletionChunk(id='chatcmpl-8cbVi9NK5PYz1vNVKrwn716EMReDy', choices=[Choice(delta=ChoiceDelta(content='\"It', function_call=None, role=None, tool_calls=None), finish_reason=None, index=0, logprobs=None)], created=1704211346, model='gpt-3.5-turbo-1106', object='chat.completion.chunk', system_fingerprint='fp_772e8125bb')\n",
      "ChatCompletionChunk(id='chatcmpl-8cbVi9NK5PYz1vNVKrwn716EMReDy', choices=[Choice(delta=ChoiceDelta(content=\"'s\", function_call=None, role=None, tool_calls=None), finish_reason=None, index=0, logprobs=None)], created=1704211346, model='gpt-3.5-turbo-1106', object='chat.completion.chunk', system_fingerprint='fp_772e8125bb')\n",
      "ChatCompletionChunk(id='chatcmpl-8cbVi9NK5PYz1vNVKrwn716EMReDy', choices=[Choice(delta=ChoiceDelta(content=' important', function_call=None, role=None, tool_calls=None), finish_reason=None, index=0, logprobs=None)], created=1704211346, model='gpt-3.5-turbo-1106', object='chat.completion.chunk', system_fingerprint='fp_772e8125bb')\n",
      "ChatCompletionChunk(id='chatcmpl-8cbVi9NK5PYz1vNVKrwn716EMReDy', choices=[Choice(delta=ChoiceDelta(content=' to', function_call=None, role=None, tool_calls=None), finish_reason=None, index=0, logprobs=None)], created=1704211346, model='gpt-3.5-turbo-1106', object='chat.completion.chunk', system_fingerprint='fp_772e8125bb')\n",
      "ChatCompletionChunk(id='chatcmpl-8cbVi9NK5PYz1vNVKrwn716EMReDy', choices=[Choice(delta=ChoiceDelta(content=' practice', function_call=None, role=None, tool_calls=None), finish_reason=None, index=0, logprobs=None)], created=1704211346, model='gpt-3.5-turbo-1106', object='chat.completion.chunk', system_fingerprint='fp_772e8125bb')\n",
      "ChatCompletionChunk(id='chatcmpl-8cbVi9NK5PYz1vNVKrwn716EMReDy', choices=[Choice(delta=ChoiceDelta(content=' gratitude', function_call=None, role=None, tool_calls=None), finish_reason=None, index=0, logprobs=None)], created=1704211346, model='gpt-3.5-turbo-1106', object='chat.completion.chunk', system_fingerprint='fp_772e8125bb')\n",
      "ChatCompletionChunk(id='chatcmpl-8cbVi9NK5PYz1vNVKrwn716EMReDy', choices=[Choice(delta=ChoiceDelta(content=' every', function_call=None, role=None, tool_calls=None), finish_reason=None, index=0, logprobs=None)], created=1704211346, model='gpt-3.5-turbo-1106', object='chat.completion.chunk', system_fingerprint='fp_772e8125bb')\n",
      "ChatCompletionChunk(id='chatcmpl-8cbVi9NK5PYz1vNVKrwn716EMReDy', choices=[Choice(delta=ChoiceDelta(content=' day', function_call=None, role=None, tool_calls=None), finish_reason=None, index=0, logprobs=None)], created=1704211346, model='gpt-3.5-turbo-1106', object='chat.completion.chunk', system_fingerprint='fp_772e8125bb')\n",
      "ChatCompletionChunk(id='chatcmpl-8cbVi9NK5PYz1vNVKrwn716EMReDy', choices=[Choice(delta=ChoiceDelta(content=' because', function_call=None, role=None, tool_calls=None), finish_reason=None, index=0, logprobs=None)], created=1704211346, model='gpt-3.5-turbo-1106', object='chat.completion.chunk', system_fingerprint='fp_772e8125bb')\n",
      "ChatCompletionChunk(id='chatcmpl-8cbVi9NK5PYz1vNVKrwn716EMReDy', choices=[Choice(delta=ChoiceDelta(content='...\"', function_call=None, role=None, tool_calls=None), finish_reason=None, index=0, logprobs=None)], created=1704211346, model='gpt-3.5-turbo-1106', object='chat.completion.chunk', system_fingerprint='fp_772e8125bb')\n",
      "ChatCompletionChunk(id='chatcmpl-8cbVi9NK5PYz1vNVKrwn716EMReDy', choices=[Choice(delta=ChoiceDelta(content=None, function_call=None, role=None, tool_calls=None), finish_reason='stop', index=0, logprobs=None)], created=1704211346, model='gpt-3.5-turbo-1106', object='chat.completion.chunk', system_fingerprint='fp_772e8125bb')\n"
     ]
    }
   ],
   "source": [
    "chat_response = client.chat.completions.create(\n",
    "            model=\"gpt-3.5-turbo-1106\",\n",
    "            messages=[ {  \n",
    "          \"role\":\"user\",\n",
    "           \"content\":\"prompt\"\n",
    "           }],\n",
    "            stream=True\n",
    "        )\n",
    "\n",
    "for response in chat_response:\n",
    "    print(response)"
   ]
  },
  {
   "cell_type": "code",
   "execution_count": null,
   "metadata": {},
   "outputs": [],
   "source": []
  }
 ],
 "metadata": {
  "kernelspec": {
   "display_name": "myenv3_12",
   "language": "python",
   "name": "python3"
  },
  "language_info": {
   "codemirror_mode": {
    "name": "ipython",
    "version": 3
   },
   "file_extension": ".py",
   "mimetype": "text/x-python",
   "name": "python",
   "nbconvert_exporter": "python",
   "pygments_lexer": "ipython3",
   "version": "3.12.0"
  }
 },
 "nbformat": 4,
 "nbformat_minor": 2
}
