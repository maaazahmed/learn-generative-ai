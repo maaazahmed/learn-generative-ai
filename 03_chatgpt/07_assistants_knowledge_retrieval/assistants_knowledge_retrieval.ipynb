{
 "cells": [
  {
   "cell_type": "code",
   "execution_count": 1,
   "metadata": {},
   "outputs": [
    {
     "data": {
      "text/plain": [
       "{'id': 'file-cuKnLdhG5BEM1qZ8VdGWoZit',\n",
       " 'bytes': 364321,\n",
       " 'created_at': 1707579337,\n",
       " 'filename': 'cardata.pdf',\n",
       " 'object': 'file',\n",
       " 'purpose': 'assistants',\n",
       " 'status': 'processed',\n",
       " 'status_details': None}"
      ]
     },
     "metadata": {},
     "output_type": "display_data"
    },
    {
     "data": {
      "text/plain": [
       "{'id': 'asst_1d3jHSBItALfqGMPCDxNFdvQ',\n",
       " 'created_at': 1707579338,\n",
       " 'description': None,\n",
       " 'file_ids': ['file-cuKnLdhG5BEM1qZ8VdGWoZit'],\n",
       " 'instructions': 'You are a customer support chatbot. Use your knowledge base to best respond to client queries about car',\n",
       " 'metadata': {},\n",
       " 'model': 'gpt-3.5-turbo-1106',\n",
       " 'name': 'Student Support Assistant',\n",
       " 'object': 'assistant',\n",
       " 'tools': [{'type': 'retrieval'}]}"
      ]
     },
     "metadata": {},
     "output_type": "display_data"
    },
    {
     "data": {
      "text/plain": [
       "{'id': 'asst_1d3jHSBItALfqGMPCDxNFdvQ',\n",
       " 'created_at': 1707579338,\n",
       " 'description': None,\n",
       " 'file_ids': ['file-cuKnLdhG5BEM1qZ8VdGWoZit'],\n",
       " 'instructions': 'You are a customer support chatbot. Use your knowledge base to best respond to client queries about car',\n",
       " 'metadata': {},\n",
       " 'model': 'gpt-3.5-turbo-1106',\n",
       " 'name': 'Student Support Assistant',\n",
       " 'object': 'assistant',\n",
       " 'tools': [{'type': 'retrieval'}]}"
      ]
     },
     "metadata": {},
     "output_type": "display_data"
    },
    {
     "data": {
      "text/plain": [
       "{'id': 'run_MzDICUaUBfeD4QuvvKxVN2ca',\n",
       " 'assistant_id': 'asst_1d3jHSBItALfqGMPCDxNFdvQ',\n",
       " 'cancelled_at': None,\n",
       " 'completed_at': None,\n",
       " 'created_at': 1707579340,\n",
       " 'expires_at': 1707579940,\n",
       " 'failed_at': None,\n",
       " 'file_ids': ['file-cuKnLdhG5BEM1qZ8VdGWoZit'],\n",
       " 'instructions': 'Please address the user as Pakistani. The user is the student of PIAIC.',\n",
       " 'last_error': None,\n",
       " 'metadata': {},\n",
       " 'model': 'gpt-3.5-turbo-1106',\n",
       " 'object': 'thread.run',\n",
       " 'required_action': None,\n",
       " 'started_at': None,\n",
       " 'status': 'queued',\n",
       " 'thread_id': 'thread_G0cgyTuLntUXNCHxGgRy9ItF',\n",
       " 'tools': [{'type': 'retrieval'}],\n",
       " 'usage': None}"
      ]
     },
     "metadata": {},
     "output_type": "display_data"
    },
    {
     "name": "stdout",
     "output_type": "stream",
     "text": [
      "queued ===\n",
      "in_progress ===\n",
      "in_progress ===\n",
      "in_progress ===\n",
      "in_progress ===\n",
      "in_progress ===\n",
      "in_progress ===\n",
      "in_progress ===\n",
      "in_progress ===\n",
      "in_progress ===\n",
      "in_progress ===\n",
      "in_progress ===\n",
      "in_progress ===\n",
      "in_progress ===\n",
      "in_progress ===\n",
      "in_progress ===\n",
      "in_progress ===\n",
      "in_progress ===\n",
      "in_progress ===\n",
      "in_progress ===\n",
      "in_progress ===\n",
      "in_progress ===\n",
      "in_progress ===\n",
      "in_progress ===\n",
      "in_progress ===\n",
      "in_progress ===\n",
      "in_progress ===\n",
      "in_progress ===\n",
      "in_progress ===\n",
      "in_progress ===\n",
      "in_progress ===\n",
      "in_progress ===\n",
      "in_progress ===\n",
      "in_progress ===\n",
      "in_progress ===\n",
      "in_progress ===\n",
      "in_progress ===\n",
      "in_progress ===\n",
      "in_progress ===\n",
      "in_progress ===\n",
      "in_progress ===\n",
      "in_progress ===\n",
      "in_progress ===\n",
      "in_progress ===\n",
      "in_progress ===\n",
      "in_progress ===\n",
      "in_progress ===\n",
      "in_progress ===\n",
      "in_progress ===\n",
      "in_progress ===\n",
      "in_progress ===\n",
      "in_progress ===\n",
      "in_progress ===\n",
      "in_progress ===\n",
      "in_progress ===\n",
      "in_progress ===\n",
      "in_progress ===\n",
      "in_progress ===\n",
      "in_progress ===\n",
      "in_progress ===\n",
      "in_progress ===\n",
      "in_progress ===\n",
      "in_progress ===\n",
      "in_progress ===\n",
      "in_progress ===\n",
      "in_progress ===\n",
      "in_progress ===\n",
      "in_progress ===\n",
      "in_progress ===\n",
      "in_progress ===\n",
      "in_progress ===\n"
     ]
    },
    {
     "ename": "KeyboardInterrupt",
     "evalue": "",
     "output_type": "error",
     "traceback": [
      "\u001b[0;31m---------------------------------------------------------------------------\u001b[0m",
      "\u001b[0;31mKeyboardInterrupt\u001b[0m                         Traceback (most recent call last)",
      "\u001b[1;32m/home/maaz/Desktop/Development/GenAI/learn-generative-ai/03_chatgpt/07_assistants_knowledge_retrieval/assistants_knowledge_retrieval.ipynb Cell 1\u001b[0m line \u001b[0;36m7\n\u001b[1;32m     <a href='vscode-notebook-cell:/home/maaz/Desktop/Development/GenAI/learn-generative-ai/03_chatgpt/07_assistants_knowledge_retrieval/assistants_knowledge_retrieval.ipynb#W0sZmlsZQ%3D%3D?line=75'>76</a>\u001b[0m \u001b[39mwhile\u001b[39;00m run\u001b[39m.\u001b[39mstatus \u001b[39m==\u001b[39m \u001b[39m\"\u001b[39m\u001b[39mqueued\u001b[39m\u001b[39m\"\u001b[39m \u001b[39mor\u001b[39;00m run\u001b[39m.\u001b[39mstatus \u001b[39m==\u001b[39m \u001b[39m\"\u001b[39m\u001b[39min_progress\u001b[39m\u001b[39m\"\u001b[39m:\n\u001b[1;32m     <a href='vscode-notebook-cell:/home/maaz/Desktop/Development/GenAI/learn-generative-ai/03_chatgpt/07_assistants_knowledge_retrieval/assistants_knowledge_retrieval.ipynb#W0sZmlsZQ%3D%3D?line=76'>77</a>\u001b[0m         \u001b[39mprint\u001b[39m(run\u001b[39m.\u001b[39mstatus, \u001b[39m\"\u001b[39m\u001b[39m===\u001b[39m\u001b[39m\"\u001b[39m)\n\u001b[0;32m---> <a href='vscode-notebook-cell:/home/maaz/Desktop/Development/GenAI/learn-generative-ai/03_chatgpt/07_assistants_knowledge_retrieval/assistants_knowledge_retrieval.ipynb#W0sZmlsZQ%3D%3D?line=77'>78</a>\u001b[0m         run \u001b[39m=\u001b[39m client\u001b[39m.\u001b[39;49mbeta\u001b[39m.\u001b[39;49mthreads\u001b[39m.\u001b[39;49mruns\u001b[39m.\u001b[39;49mretrieve(\n\u001b[1;32m     <a href='vscode-notebook-cell:/home/maaz/Desktop/Development/GenAI/learn-generative-ai/03_chatgpt/07_assistants_knowledge_retrieval/assistants_knowledge_retrieval.ipynb#W0sZmlsZQ%3D%3D?line=78'>79</a>\u001b[0m             thread_id\u001b[39m=\u001b[39;49mthread\u001b[39m.\u001b[39;49mid,\n\u001b[1;32m     <a href='vscode-notebook-cell:/home/maaz/Desktop/Development/GenAI/learn-generative-ai/03_chatgpt/07_assistants_knowledge_retrieval/assistants_knowledge_retrieval.ipynb#W0sZmlsZQ%3D%3D?line=79'>80</a>\u001b[0m             run_id\u001b[39m=\u001b[39;49mrun\u001b[39m.\u001b[39;49mid,\n\u001b[1;32m     <a href='vscode-notebook-cell:/home/maaz/Desktop/Development/GenAI/learn-generative-ai/03_chatgpt/07_assistants_knowledge_retrieval/assistants_knowledge_retrieval.ipynb#W0sZmlsZQ%3D%3D?line=80'>81</a>\u001b[0m         )\n\u001b[1;32m     <a href='vscode-notebook-cell:/home/maaz/Desktop/Development/GenAI/learn-generative-ai/03_chatgpt/07_assistants_knowledge_retrieval/assistants_knowledge_retrieval.ipynb#W0sZmlsZQ%3D%3D?line=81'>82</a>\u001b[0m         time\u001b[39m.\u001b[39msleep(\u001b[39m0.5\u001b[39m)\n\u001b[1;32m     <a href='vscode-notebook-cell:/home/maaz/Desktop/Development/GenAI/learn-generative-ai/03_chatgpt/07_assistants_knowledge_retrieval/assistants_knowledge_retrieval.ipynb#W0sZmlsZQ%3D%3D?line=82'>83</a>\u001b[0m     \u001b[39m# return run\u001b[39;00m\n",
      "File \u001b[0;32m~/anaconda3/envs/python-env-12/lib/python3.12/site-packages/openai/resources/beta/threads/runs/runs.py:132\u001b[0m, in \u001b[0;36mRuns.retrieve\u001b[0;34m(self, run_id, thread_id, extra_headers, extra_query, extra_body, timeout)\u001b[0m\n\u001b[1;32m    119\u001b[0m \u001b[39m\u001b[39m\u001b[39m\"\"\"\u001b[39;00m\n\u001b[1;32m    120\u001b[0m \u001b[39mRetrieves a run.\u001b[39;00m\n\u001b[1;32m    121\u001b[0m \n\u001b[0;32m   (...)\u001b[0m\n\u001b[1;32m    129\u001b[0m \u001b[39m  timeout: Override the client-level default timeout for this request, in seconds\u001b[39;00m\n\u001b[1;32m    130\u001b[0m \u001b[39m\"\"\"\u001b[39;00m\n\u001b[1;32m    131\u001b[0m extra_headers \u001b[39m=\u001b[39m {\u001b[39m\"\u001b[39m\u001b[39mOpenAI-Beta\u001b[39m\u001b[39m\"\u001b[39m: \u001b[39m\"\u001b[39m\u001b[39massistants=v1\u001b[39m\u001b[39m\"\u001b[39m, \u001b[39m*\u001b[39m\u001b[39m*\u001b[39m(extra_headers \u001b[39mor\u001b[39;00m {})}\n\u001b[0;32m--> 132\u001b[0m \u001b[39mreturn\u001b[39;00m \u001b[39mself\u001b[39;49m\u001b[39m.\u001b[39;49m_get(\n\u001b[1;32m    133\u001b[0m     \u001b[39mf\u001b[39;49m\u001b[39m\"\u001b[39;49m\u001b[39m/threads/\u001b[39;49m\u001b[39m{\u001b[39;49;00mthread_id\u001b[39m}\u001b[39;49;00m\u001b[39m/runs/\u001b[39;49m\u001b[39m{\u001b[39;49;00mrun_id\u001b[39m}\u001b[39;49;00m\u001b[39m\"\u001b[39;49m,\n\u001b[1;32m    134\u001b[0m     options\u001b[39m=\u001b[39;49mmake_request_options(\n\u001b[1;32m    135\u001b[0m         extra_headers\u001b[39m=\u001b[39;49mextra_headers, extra_query\u001b[39m=\u001b[39;49mextra_query, extra_body\u001b[39m=\u001b[39;49mextra_body, timeout\u001b[39m=\u001b[39;49mtimeout\n\u001b[1;32m    136\u001b[0m     ),\n\u001b[1;32m    137\u001b[0m     cast_to\u001b[39m=\u001b[39;49mRun,\n\u001b[1;32m    138\u001b[0m )\n",
      "File \u001b[0;32m~/anaconda3/envs/python-env-12/lib/python3.12/site-packages/openai/_base_client.py:1006\u001b[0m, in \u001b[0;36mSyncAPIClient.get\u001b[0;34m(self, path, cast_to, options, stream, stream_cls)\u001b[0m\n\u001b[1;32m   1003\u001b[0m opts \u001b[39m=\u001b[39m FinalRequestOptions\u001b[39m.\u001b[39mconstruct(method\u001b[39m=\u001b[39m\u001b[39m\"\u001b[39m\u001b[39mget\u001b[39m\u001b[39m\"\u001b[39m, url\u001b[39m=\u001b[39mpath, \u001b[39m*\u001b[39m\u001b[39m*\u001b[39moptions)\n\u001b[1;32m   1004\u001b[0m \u001b[39m# cast is required because mypy complains about returning Any even though\u001b[39;00m\n\u001b[1;32m   1005\u001b[0m \u001b[39m# it understands the type variables\u001b[39;00m\n\u001b[0;32m-> 1006\u001b[0m \u001b[39mreturn\u001b[39;00m cast(ResponseT, \u001b[39mself\u001b[39;49m\u001b[39m.\u001b[39;49mrequest(cast_to, opts, stream\u001b[39m=\u001b[39;49mstream, stream_cls\u001b[39m=\u001b[39;49mstream_cls))\n",
      "File \u001b[0;32m~/anaconda3/envs/python-env-12/lib/python3.12/site-packages/openai/_base_client.py:842\u001b[0m, in \u001b[0;36mSyncAPIClient.request\u001b[0;34m(self, cast_to, options, remaining_retries, stream, stream_cls)\u001b[0m\n\u001b[1;32m    833\u001b[0m \u001b[39mdef\u001b[39;00m \u001b[39mrequest\u001b[39m(\n\u001b[1;32m    834\u001b[0m     \u001b[39mself\u001b[39m,\n\u001b[1;32m    835\u001b[0m     cast_to: Type[ResponseT],\n\u001b[0;32m   (...)\u001b[0m\n\u001b[1;32m    840\u001b[0m     stream_cls: \u001b[39mtype\u001b[39m[_StreamT] \u001b[39m|\u001b[39m \u001b[39mNone\u001b[39;00m \u001b[39m=\u001b[39m \u001b[39mNone\u001b[39;00m,\n\u001b[1;32m    841\u001b[0m ) \u001b[39m-\u001b[39m\u001b[39m>\u001b[39m ResponseT \u001b[39m|\u001b[39m _StreamT:\n\u001b[0;32m--> 842\u001b[0m     \u001b[39mreturn\u001b[39;00m \u001b[39mself\u001b[39;49m\u001b[39m.\u001b[39;49m_request(\n\u001b[1;32m    843\u001b[0m         cast_to\u001b[39m=\u001b[39;49mcast_to,\n\u001b[1;32m    844\u001b[0m         options\u001b[39m=\u001b[39;49moptions,\n\u001b[1;32m    845\u001b[0m         stream\u001b[39m=\u001b[39;49mstream,\n\u001b[1;32m    846\u001b[0m         stream_cls\u001b[39m=\u001b[39;49mstream_cls,\n\u001b[1;32m    847\u001b[0m         remaining_retries\u001b[39m=\u001b[39;49mremaining_retries,\n\u001b[1;32m    848\u001b[0m     )\n",
      "File \u001b[0;32m~/anaconda3/envs/python-env-12/lib/python3.12/site-packages/openai/_base_client.py:866\u001b[0m, in \u001b[0;36mSyncAPIClient._request\u001b[0;34m(self, cast_to, options, remaining_retries, stream, stream_cls)\u001b[0m\n\u001b[1;32m    863\u001b[0m \u001b[39mself\u001b[39m\u001b[39m.\u001b[39m_prepare_request(request)\n\u001b[1;32m    865\u001b[0m \u001b[39mtry\u001b[39;00m:\n\u001b[0;32m--> 866\u001b[0m     response \u001b[39m=\u001b[39m \u001b[39mself\u001b[39;49m\u001b[39m.\u001b[39;49m_client\u001b[39m.\u001b[39;49msend(request, auth\u001b[39m=\u001b[39;49m\u001b[39mself\u001b[39;49m\u001b[39m.\u001b[39;49mcustom_auth, stream\u001b[39m=\u001b[39;49mstream)\n\u001b[1;32m    867\u001b[0m     log\u001b[39m.\u001b[39mdebug(\n\u001b[1;32m    868\u001b[0m         \u001b[39m'\u001b[39m\u001b[39mHTTP Request: \u001b[39m\u001b[39m%s\u001b[39;00m\u001b[39m \u001b[39m\u001b[39m%s\u001b[39;00m\u001b[39m \u001b[39m\u001b[39m\"\u001b[39m\u001b[39m%i\u001b[39;00m\u001b[39m \u001b[39m\u001b[39m%s\u001b[39;00m\u001b[39m\"\u001b[39m\u001b[39m'\u001b[39m, request\u001b[39m.\u001b[39mmethod, request\u001b[39m.\u001b[39murl, response\u001b[39m.\u001b[39mstatus_code, response\u001b[39m.\u001b[39mreason_phrase\n\u001b[1;32m    869\u001b[0m     )\n\u001b[1;32m    870\u001b[0m     response\u001b[39m.\u001b[39mraise_for_status()\n",
      "File \u001b[0;32m~/anaconda3/envs/python-env-12/lib/python3.12/site-packages/httpx/_client.py:901\u001b[0m, in \u001b[0;36mClient.send\u001b[0;34m(self, request, stream, auth, follow_redirects)\u001b[0m\n\u001b[1;32m    893\u001b[0m follow_redirects \u001b[39m=\u001b[39m (\n\u001b[1;32m    894\u001b[0m     \u001b[39mself\u001b[39m\u001b[39m.\u001b[39mfollow_redirects\n\u001b[1;32m    895\u001b[0m     \u001b[39mif\u001b[39;00m \u001b[39misinstance\u001b[39m(follow_redirects, UseClientDefault)\n\u001b[1;32m    896\u001b[0m     \u001b[39melse\u001b[39;00m follow_redirects\n\u001b[1;32m    897\u001b[0m )\n\u001b[1;32m    899\u001b[0m auth \u001b[39m=\u001b[39m \u001b[39mself\u001b[39m\u001b[39m.\u001b[39m_build_request_auth(request, auth)\n\u001b[0;32m--> 901\u001b[0m response \u001b[39m=\u001b[39m \u001b[39mself\u001b[39;49m\u001b[39m.\u001b[39;49m_send_handling_auth(\n\u001b[1;32m    902\u001b[0m     request,\n\u001b[1;32m    903\u001b[0m     auth\u001b[39m=\u001b[39;49mauth,\n\u001b[1;32m    904\u001b[0m     follow_redirects\u001b[39m=\u001b[39;49mfollow_redirects,\n\u001b[1;32m    905\u001b[0m     history\u001b[39m=\u001b[39;49m[],\n\u001b[1;32m    906\u001b[0m )\n\u001b[1;32m    907\u001b[0m \u001b[39mtry\u001b[39;00m:\n\u001b[1;32m    908\u001b[0m     \u001b[39mif\u001b[39;00m \u001b[39mnot\u001b[39;00m stream:\n",
      "File \u001b[0;32m~/anaconda3/envs/python-env-12/lib/python3.12/site-packages/httpx/_client.py:929\u001b[0m, in \u001b[0;36mClient._send_handling_auth\u001b[0;34m(self, request, auth, follow_redirects, history)\u001b[0m\n\u001b[1;32m    926\u001b[0m request \u001b[39m=\u001b[39m \u001b[39mnext\u001b[39m(auth_flow)\n\u001b[1;32m    928\u001b[0m \u001b[39mwhile\u001b[39;00m \u001b[39mTrue\u001b[39;00m:\n\u001b[0;32m--> 929\u001b[0m     response \u001b[39m=\u001b[39m \u001b[39mself\u001b[39;49m\u001b[39m.\u001b[39;49m_send_handling_redirects(\n\u001b[1;32m    930\u001b[0m         request,\n\u001b[1;32m    931\u001b[0m         follow_redirects\u001b[39m=\u001b[39;49mfollow_redirects,\n\u001b[1;32m    932\u001b[0m         history\u001b[39m=\u001b[39;49mhistory,\n\u001b[1;32m    933\u001b[0m     )\n\u001b[1;32m    934\u001b[0m     \u001b[39mtry\u001b[39;00m:\n\u001b[1;32m    935\u001b[0m         \u001b[39mtry\u001b[39;00m:\n",
      "File \u001b[0;32m~/anaconda3/envs/python-env-12/lib/python3.12/site-packages/httpx/_client.py:966\u001b[0m, in \u001b[0;36mClient._send_handling_redirects\u001b[0;34m(self, request, follow_redirects, history)\u001b[0m\n\u001b[1;32m    963\u001b[0m \u001b[39mfor\u001b[39;00m hook \u001b[39min\u001b[39;00m \u001b[39mself\u001b[39m\u001b[39m.\u001b[39m_event_hooks[\u001b[39m\"\u001b[39m\u001b[39mrequest\u001b[39m\u001b[39m\"\u001b[39m]:\n\u001b[1;32m    964\u001b[0m     hook(request)\n\u001b[0;32m--> 966\u001b[0m response \u001b[39m=\u001b[39m \u001b[39mself\u001b[39;49m\u001b[39m.\u001b[39;49m_send_single_request(request)\n\u001b[1;32m    967\u001b[0m \u001b[39mtry\u001b[39;00m:\n\u001b[1;32m    968\u001b[0m     \u001b[39mfor\u001b[39;00m hook \u001b[39min\u001b[39;00m \u001b[39mself\u001b[39m\u001b[39m.\u001b[39m_event_hooks[\u001b[39m\"\u001b[39m\u001b[39mresponse\u001b[39m\u001b[39m\"\u001b[39m]:\n",
      "File \u001b[0;32m~/anaconda3/envs/python-env-12/lib/python3.12/site-packages/httpx/_client.py:1002\u001b[0m, in \u001b[0;36mClient._send_single_request\u001b[0;34m(self, request)\u001b[0m\n\u001b[1;32m    997\u001b[0m     \u001b[39mraise\u001b[39;00m \u001b[39mRuntimeError\u001b[39;00m(\n\u001b[1;32m    998\u001b[0m         \u001b[39m\"\u001b[39m\u001b[39mAttempted to send an async request with a sync Client instance.\u001b[39m\u001b[39m\"\u001b[39m\n\u001b[1;32m    999\u001b[0m     )\n\u001b[1;32m   1001\u001b[0m \u001b[39mwith\u001b[39;00m request_context(request\u001b[39m=\u001b[39mrequest):\n\u001b[0;32m-> 1002\u001b[0m     response \u001b[39m=\u001b[39m transport\u001b[39m.\u001b[39;49mhandle_request(request)\n\u001b[1;32m   1004\u001b[0m \u001b[39massert\u001b[39;00m \u001b[39misinstance\u001b[39m(response\u001b[39m.\u001b[39mstream, SyncByteStream)\n\u001b[1;32m   1006\u001b[0m response\u001b[39m.\u001b[39mrequest \u001b[39m=\u001b[39m request\n",
      "File \u001b[0;32m~/anaconda3/envs/python-env-12/lib/python3.12/site-packages/httpx/_transports/default.py:228\u001b[0m, in \u001b[0;36mHTTPTransport.handle_request\u001b[0;34m(self, request)\u001b[0m\n\u001b[1;32m    215\u001b[0m req \u001b[39m=\u001b[39m httpcore\u001b[39m.\u001b[39mRequest(\n\u001b[1;32m    216\u001b[0m     method\u001b[39m=\u001b[39mrequest\u001b[39m.\u001b[39mmethod,\n\u001b[1;32m    217\u001b[0m     url\u001b[39m=\u001b[39mhttpcore\u001b[39m.\u001b[39mURL(\n\u001b[0;32m   (...)\u001b[0m\n\u001b[1;32m    225\u001b[0m     extensions\u001b[39m=\u001b[39mrequest\u001b[39m.\u001b[39mextensions,\n\u001b[1;32m    226\u001b[0m )\n\u001b[1;32m    227\u001b[0m \u001b[39mwith\u001b[39;00m map_httpcore_exceptions():\n\u001b[0;32m--> 228\u001b[0m     resp \u001b[39m=\u001b[39m \u001b[39mself\u001b[39;49m\u001b[39m.\u001b[39;49m_pool\u001b[39m.\u001b[39;49mhandle_request(req)\n\u001b[1;32m    230\u001b[0m \u001b[39massert\u001b[39;00m \u001b[39misinstance\u001b[39m(resp\u001b[39m.\u001b[39mstream, typing\u001b[39m.\u001b[39mIterable)\n\u001b[1;32m    232\u001b[0m \u001b[39mreturn\u001b[39;00m Response(\n\u001b[1;32m    233\u001b[0m     status_code\u001b[39m=\u001b[39mresp\u001b[39m.\u001b[39mstatus,\n\u001b[1;32m    234\u001b[0m     headers\u001b[39m=\u001b[39mresp\u001b[39m.\u001b[39mheaders,\n\u001b[1;32m    235\u001b[0m     stream\u001b[39m=\u001b[39mResponseStream(resp\u001b[39m.\u001b[39mstream),\n\u001b[1;32m    236\u001b[0m     extensions\u001b[39m=\u001b[39mresp\u001b[39m.\u001b[39mextensions,\n\u001b[1;32m    237\u001b[0m )\n",
      "File \u001b[0;32m~/anaconda3/envs/python-env-12/lib/python3.12/site-packages/httpcore/_sync/connection_pool.py:268\u001b[0m, in \u001b[0;36mConnectionPool.handle_request\u001b[0;34m(self, request)\u001b[0m\n\u001b[1;32m    266\u001b[0m     \u001b[39mwith\u001b[39;00m ShieldCancellation():\n\u001b[1;32m    267\u001b[0m         \u001b[39mself\u001b[39m\u001b[39m.\u001b[39mresponse_closed(status)\n\u001b[0;32m--> 268\u001b[0m     \u001b[39mraise\u001b[39;00m exc\n\u001b[1;32m    269\u001b[0m \u001b[39melse\u001b[39;00m:\n\u001b[1;32m    270\u001b[0m     \u001b[39mbreak\u001b[39;00m\n",
      "File \u001b[0;32m~/anaconda3/envs/python-env-12/lib/python3.12/site-packages/httpcore/_sync/connection_pool.py:251\u001b[0m, in \u001b[0;36mConnectionPool.handle_request\u001b[0;34m(self, request)\u001b[0m\n\u001b[1;32m    248\u001b[0m         \u001b[39mraise\u001b[39;00m exc\n\u001b[1;32m    250\u001b[0m \u001b[39mtry\u001b[39;00m:\n\u001b[0;32m--> 251\u001b[0m     response \u001b[39m=\u001b[39m connection\u001b[39m.\u001b[39;49mhandle_request(request)\n\u001b[1;32m    252\u001b[0m \u001b[39mexcept\u001b[39;00m ConnectionNotAvailable:\n\u001b[1;32m    253\u001b[0m     \u001b[39m# The ConnectionNotAvailable exception is a special case, that\u001b[39;00m\n\u001b[1;32m    254\u001b[0m     \u001b[39m# indicates we need to retry the request on a new connection.\u001b[39;00m\n\u001b[0;32m   (...)\u001b[0m\n\u001b[1;32m    258\u001b[0m     \u001b[39m# might end up as an HTTP/2 connection, but which actually ends\u001b[39;00m\n\u001b[1;32m    259\u001b[0m     \u001b[39m# up as HTTP/1.1.\u001b[39;00m\n\u001b[1;32m    260\u001b[0m     \u001b[39mwith\u001b[39;00m \u001b[39mself\u001b[39m\u001b[39m.\u001b[39m_pool_lock:\n\u001b[1;32m    261\u001b[0m         \u001b[39m# Maintain our position in the request queue, but reset the\u001b[39;00m\n\u001b[1;32m    262\u001b[0m         \u001b[39m# status so that the request becomes queued again.\u001b[39;00m\n",
      "File \u001b[0;32m~/anaconda3/envs/python-env-12/lib/python3.12/site-packages/httpcore/_sync/connection.py:103\u001b[0m, in \u001b[0;36mHTTPConnection.handle_request\u001b[0;34m(self, request)\u001b[0m\n\u001b[1;32m    100\u001b[0m     \u001b[39melif\u001b[39;00m \u001b[39mnot\u001b[39;00m \u001b[39mself\u001b[39m\u001b[39m.\u001b[39m_connection\u001b[39m.\u001b[39mis_available():\n\u001b[1;32m    101\u001b[0m         \u001b[39mraise\u001b[39;00m ConnectionNotAvailable()\n\u001b[0;32m--> 103\u001b[0m \u001b[39mreturn\u001b[39;00m \u001b[39mself\u001b[39;49m\u001b[39m.\u001b[39;49m_connection\u001b[39m.\u001b[39;49mhandle_request(request)\n",
      "File \u001b[0;32m~/anaconda3/envs/python-env-12/lib/python3.12/site-packages/httpcore/_sync/http11.py:133\u001b[0m, in \u001b[0;36mHTTP11Connection.handle_request\u001b[0;34m(self, request)\u001b[0m\n\u001b[1;32m    131\u001b[0m     \u001b[39mwith\u001b[39;00m Trace(\u001b[39m\"\u001b[39m\u001b[39mresponse_closed\u001b[39m\u001b[39m\"\u001b[39m, logger, request) \u001b[39mas\u001b[39;00m trace:\n\u001b[1;32m    132\u001b[0m         \u001b[39mself\u001b[39m\u001b[39m.\u001b[39m_response_closed()\n\u001b[0;32m--> 133\u001b[0m \u001b[39mraise\u001b[39;00m exc\n",
      "File \u001b[0;32m~/anaconda3/envs/python-env-12/lib/python3.12/site-packages/httpcore/_sync/http11.py:111\u001b[0m, in \u001b[0;36mHTTP11Connection.handle_request\u001b[0;34m(self, request)\u001b[0m\n\u001b[1;32m    101\u001b[0m     \u001b[39mpass\u001b[39;00m\n\u001b[1;32m    103\u001b[0m \u001b[39mwith\u001b[39;00m Trace(\n\u001b[1;32m    104\u001b[0m     \u001b[39m\"\u001b[39m\u001b[39mreceive_response_headers\u001b[39m\u001b[39m\"\u001b[39m, logger, request, kwargs\n\u001b[1;32m    105\u001b[0m ) \u001b[39mas\u001b[39;00m trace:\n\u001b[1;32m    106\u001b[0m     (\n\u001b[1;32m    107\u001b[0m         http_version,\n\u001b[1;32m    108\u001b[0m         status,\n\u001b[1;32m    109\u001b[0m         reason_phrase,\n\u001b[1;32m    110\u001b[0m         headers,\n\u001b[0;32m--> 111\u001b[0m     ) \u001b[39m=\u001b[39m \u001b[39mself\u001b[39;49m\u001b[39m.\u001b[39;49m_receive_response_headers(\u001b[39m*\u001b[39;49m\u001b[39m*\u001b[39;49mkwargs)\n\u001b[1;32m    112\u001b[0m     trace\u001b[39m.\u001b[39mreturn_value \u001b[39m=\u001b[39m (\n\u001b[1;32m    113\u001b[0m         http_version,\n\u001b[1;32m    114\u001b[0m         status,\n\u001b[1;32m    115\u001b[0m         reason_phrase,\n\u001b[1;32m    116\u001b[0m         headers,\n\u001b[1;32m    117\u001b[0m     )\n\u001b[1;32m    119\u001b[0m \u001b[39mreturn\u001b[39;00m Response(\n\u001b[1;32m    120\u001b[0m     status\u001b[39m=\u001b[39mstatus,\n\u001b[1;32m    121\u001b[0m     headers\u001b[39m=\u001b[39mheaders,\n\u001b[0;32m   (...)\u001b[0m\n\u001b[1;32m    127\u001b[0m     },\n\u001b[1;32m    128\u001b[0m )\n",
      "File \u001b[0;32m~/anaconda3/envs/python-env-12/lib/python3.12/site-packages/httpcore/_sync/http11.py:176\u001b[0m, in \u001b[0;36mHTTP11Connection._receive_response_headers\u001b[0;34m(self, request)\u001b[0m\n\u001b[1;32m    173\u001b[0m timeout \u001b[39m=\u001b[39m timeouts\u001b[39m.\u001b[39mget(\u001b[39m\"\u001b[39m\u001b[39mread\u001b[39m\u001b[39m\"\u001b[39m, \u001b[39mNone\u001b[39;00m)\n\u001b[1;32m    175\u001b[0m \u001b[39mwhile\u001b[39;00m \u001b[39mTrue\u001b[39;00m:\n\u001b[0;32m--> 176\u001b[0m     event \u001b[39m=\u001b[39m \u001b[39mself\u001b[39;49m\u001b[39m.\u001b[39;49m_receive_event(timeout\u001b[39m=\u001b[39;49mtimeout)\n\u001b[1;32m    177\u001b[0m     \u001b[39mif\u001b[39;00m \u001b[39misinstance\u001b[39m(event, h11\u001b[39m.\u001b[39mResponse):\n\u001b[1;32m    178\u001b[0m         \u001b[39mbreak\u001b[39;00m\n",
      "File \u001b[0;32m~/anaconda3/envs/python-env-12/lib/python3.12/site-packages/httpcore/_sync/http11.py:212\u001b[0m, in \u001b[0;36mHTTP11Connection._receive_event\u001b[0;34m(self, timeout)\u001b[0m\n\u001b[1;32m    209\u001b[0m     event \u001b[39m=\u001b[39m \u001b[39mself\u001b[39m\u001b[39m.\u001b[39m_h11_state\u001b[39m.\u001b[39mnext_event()\n\u001b[1;32m    211\u001b[0m \u001b[39mif\u001b[39;00m event \u001b[39mis\u001b[39;00m h11\u001b[39m.\u001b[39mNEED_DATA:\n\u001b[0;32m--> 212\u001b[0m     data \u001b[39m=\u001b[39m \u001b[39mself\u001b[39;49m\u001b[39m.\u001b[39;49m_network_stream\u001b[39m.\u001b[39;49mread(\n\u001b[1;32m    213\u001b[0m         \u001b[39mself\u001b[39;49m\u001b[39m.\u001b[39;49mREAD_NUM_BYTES, timeout\u001b[39m=\u001b[39;49mtimeout\n\u001b[1;32m    214\u001b[0m     )\n\u001b[1;32m    216\u001b[0m     \u001b[39m# If we feed this case through h11 we'll raise an exception like:\u001b[39;00m\n\u001b[1;32m    217\u001b[0m     \u001b[39m#\u001b[39;00m\n\u001b[1;32m    218\u001b[0m     \u001b[39m#     httpcore.RemoteProtocolError: can't handle event type\u001b[39;00m\n\u001b[0;32m   (...)\u001b[0m\n\u001b[1;32m    222\u001b[0m     \u001b[39m# perspective. Instead we handle this case distinctly and treat\u001b[39;00m\n\u001b[1;32m    223\u001b[0m     \u001b[39m# it as a ConnectError.\u001b[39;00m\n\u001b[1;32m    224\u001b[0m     \u001b[39mif\u001b[39;00m data \u001b[39m==\u001b[39m \u001b[39mb\u001b[39m\u001b[39m\"\u001b[39m\u001b[39m\"\u001b[39m \u001b[39mand\u001b[39;00m \u001b[39mself\u001b[39m\u001b[39m.\u001b[39m_h11_state\u001b[39m.\u001b[39mtheir_state \u001b[39m==\u001b[39m h11\u001b[39m.\u001b[39mSEND_RESPONSE:\n",
      "File \u001b[0;32m~/anaconda3/envs/python-env-12/lib/python3.12/site-packages/httpcore/_backends/sync.py:126\u001b[0m, in \u001b[0;36mSyncStream.read\u001b[0;34m(self, max_bytes, timeout)\u001b[0m\n\u001b[1;32m    124\u001b[0m \u001b[39mwith\u001b[39;00m map_exceptions(exc_map):\n\u001b[1;32m    125\u001b[0m     \u001b[39mself\u001b[39m\u001b[39m.\u001b[39m_sock\u001b[39m.\u001b[39msettimeout(timeout)\n\u001b[0;32m--> 126\u001b[0m     \u001b[39mreturn\u001b[39;00m \u001b[39mself\u001b[39;49m\u001b[39m.\u001b[39;49m_sock\u001b[39m.\u001b[39;49mrecv(max_bytes)\n",
      "File \u001b[0;32m~/anaconda3/envs/python-env-12/lib/python3.12/ssl.py:1234\u001b[0m, in \u001b[0;36mSSLSocket.recv\u001b[0;34m(self, buflen, flags)\u001b[0m\n\u001b[1;32m   1230\u001b[0m     \u001b[39mif\u001b[39;00m flags \u001b[39m!=\u001b[39m \u001b[39m0\u001b[39m:\n\u001b[1;32m   1231\u001b[0m         \u001b[39mraise\u001b[39;00m \u001b[39mValueError\u001b[39;00m(\n\u001b[1;32m   1232\u001b[0m             \u001b[39m\"\u001b[39m\u001b[39mnon-zero flags not allowed in calls to recv() on \u001b[39m\u001b[39m%s\u001b[39;00m\u001b[39m\"\u001b[39m \u001b[39m%\u001b[39m\n\u001b[1;32m   1233\u001b[0m             \u001b[39mself\u001b[39m\u001b[39m.\u001b[39m\u001b[39m__class__\u001b[39m)\n\u001b[0;32m-> 1234\u001b[0m     \u001b[39mreturn\u001b[39;00m \u001b[39mself\u001b[39;49m\u001b[39m.\u001b[39;49mread(buflen)\n\u001b[1;32m   1235\u001b[0m \u001b[39melse\u001b[39;00m:\n\u001b[1;32m   1236\u001b[0m     \u001b[39mreturn\u001b[39;00m \u001b[39msuper\u001b[39m()\u001b[39m.\u001b[39mrecv(buflen, flags)\n",
      "File \u001b[0;32m~/anaconda3/envs/python-env-12/lib/python3.12/ssl.py:1107\u001b[0m, in \u001b[0;36mSSLSocket.read\u001b[0;34m(self, len, buffer)\u001b[0m\n\u001b[1;32m   1105\u001b[0m         \u001b[39mreturn\u001b[39;00m \u001b[39mself\u001b[39m\u001b[39m.\u001b[39m_sslobj\u001b[39m.\u001b[39mread(\u001b[39mlen\u001b[39m, buffer)\n\u001b[1;32m   1106\u001b[0m     \u001b[39melse\u001b[39;00m:\n\u001b[0;32m-> 1107\u001b[0m         \u001b[39mreturn\u001b[39;00m \u001b[39mself\u001b[39;49m\u001b[39m.\u001b[39;49m_sslobj\u001b[39m.\u001b[39;49mread(\u001b[39mlen\u001b[39;49m)\n\u001b[1;32m   1108\u001b[0m \u001b[39mexcept\u001b[39;00m SSLError \u001b[39mas\u001b[39;00m x:\n\u001b[1;32m   1109\u001b[0m     \u001b[39mif\u001b[39;00m x\u001b[39m.\u001b[39margs[\u001b[39m0\u001b[39m] \u001b[39m==\u001b[39m SSL_ERROR_EOF \u001b[39mand\u001b[39;00m \u001b[39mself\u001b[39m\u001b[39m.\u001b[39msuppress_ragged_eofs:\n",
      "\u001b[0;31mKeyboardInterrupt\u001b[0m: "
     ]
    }
   ],
   "source": [
    "from openai import OpenAI\n",
    "from dotenv import dotenv_values\n",
    "import json\n",
    "# **** GPT_MODEL **** #\n",
    "GPT_MODEL = \"gpt-3.5-turbo-1106\"\n",
    "\n",
    "\n",
    "OPENAI_API_KEY:str = dotenv_values(\".env\").get(\"OPENAI_API_KEY\")\n",
    "client:OpenAI = OpenAI(api_key=OPENAI_API_KEY)\n"
   ]
  },
  {
   "cell_type": "code",
   "execution_count": 61,
   "metadata": {},
   "outputs": [],
   "source": [
    "def show_json(obj):\n",
    "    return json.loads(obj.model_dump_json())"
   ]
  },
  {
   "cell_type": "code",
   "execution_count": 62,
   "metadata": {},
   "outputs": [
    {
     "data": {
      "text/plain": [
       "{'id': 'file-g5pFyQ9Vnia11ZnEC8cBbSRv',\n",
       " 'bytes': 364321,\n",
       " 'created_at': 1707568895,\n",
       " 'filename': 'cardata.pdf',\n",
       " 'object': 'file',\n",
       " 'purpose': 'assistants',\n",
       " 'status': 'processed',\n",
       " 'status_details': None}"
      ]
     },
     "metadata": {},
     "output_type": "display_data"
    }
   ],
   "source": [
    "file = client.files.create(\n",
    "    file=open(\"cardata.pdf\", \"rb\"),\n",
    "    purpose=\"assistants\"\n",
    ")\n",
    "\n",
    "display(show_json(file))"
   ]
  },
  {
   "cell_type": "code",
   "execution_count": 63,
   "metadata": {},
   "outputs": [
    {
     "data": {
      "text/plain": [
       "{'id': 'asst_T4CAot7sfhg2WwCvFuxodfVw',\n",
       " 'created_at': 1707568896,\n",
       " 'description': None,\n",
       " 'file_ids': ['file-g5pFyQ9Vnia11ZnEC8cBbSRv'],\n",
       " 'instructions': 'You are a customer support chatbot. Use your knowledge base to best respond to client queries about car',\n",
       " 'metadata': {},\n",
       " 'model': 'gpt-3.5-turbo-1106',\n",
       " 'name': 'Student Support Assistant',\n",
       " 'object': 'assistant',\n",
       " 'tools': [{'type': 'retrieval'}]}"
      ]
     },
     "metadata": {},
     "output_type": "display_data"
    }
   ],
   "source": [
    "from openai.types.beta.assistant import Assistant\n",
    "# You are a student support chatbot. Use your knowledge base to best respond to student queries about Zia \n",
    "assistant:Assistant = client.beta.assistants.create(\n",
    "    name=\"Student Support Assistant\",\n",
    "    instructions=\"You are a customer support chatbot. Use your knowledge base to best respond to client queries about car\",\n",
    "    model=GPT_MODEL,\n",
    "    tools=[{\"type\":\"retrieval\"}],\n",
    "    file_ids=[file.id]\n",
    ")\n",
    "\n",
    "\n",
    "display(show_json(assistant))"
   ]
  },
  {
   "cell_type": "code",
   "execution_count": 64,
   "metadata": {},
   "outputs": [],
   "source": [
    "from openai.types.beta.thread import Thread\n",
    "thread:Thread =  client.beta.threads.create()"
   ]
  },
  {
   "cell_type": "code",
   "execution_count": 65,
   "metadata": {},
   "outputs": [
    {
     "data": {
      "text/plain": [
       "{'id': 'asst_T4CAot7sfhg2WwCvFuxodfVw',\n",
       " 'created_at': 1707568896,\n",
       " 'description': None,\n",
       " 'file_ids': ['file-g5pFyQ9Vnia11ZnEC8cBbSRv'],\n",
       " 'instructions': 'You are a customer support chatbot. Use your knowledge base to best respond to client queries about car',\n",
       " 'metadata': {},\n",
       " 'model': 'gpt-3.5-turbo-1106',\n",
       " 'name': 'Student Support Assistant',\n",
       " 'object': 'assistant',\n",
       " 'tools': [{'type': 'retrieval'}]}"
      ]
     },
     "metadata": {},
     "output_type": "display_data"
    }
   ],
   "source": [
    "from openai.types.beta.threads.thread_message import ThreadMessage\n",
    "\n",
    "message:ThreadMessage = client.beta.threads.messages.create(\n",
    "    thread_id=thread.id,\n",
    "    role=\"user\",\n",
    "    content=f\"\"\"what is Colour and Reg No of FORD GALAXY 2.0 TDCI ZETEC 6 SPEED 5 Door MPV *IMPORTED* No Reserve Retail Dealership Vehicle Direct\"\"\",\n",
    "    # content=f\"\"\"you are telling wrong  Reg No of FORD GALAXY 2.0 TDCI ZETEC 6 SPEED 5 Door MPV *IMPORTED* No Reserve Retail Dealership Vehicle Direct\"\"\",\n",
    ")\n",
    "\n",
    "display(show_json(assistant))\n"
   ]
  },
  {
   "cell_type": "code",
   "execution_count": 66,
   "metadata": {},
   "outputs": [
    {
     "data": {
      "text/plain": [
       "{'id': 'run_2UIIQv7TCBikGc4F81q2qvXN',\n",
       " 'assistant_id': 'asst_T4CAot7sfhg2WwCvFuxodfVw',\n",
       " 'cancelled_at': None,\n",
       " 'completed_at': None,\n",
       " 'created_at': 1707568898,\n",
       " 'expires_at': 1707569498,\n",
       " 'failed_at': None,\n",
       " 'file_ids': ['file-g5pFyQ9Vnia11ZnEC8cBbSRv'],\n",
       " 'instructions': 'Please address the user as Pakistani. The user is the student of PIAIC.',\n",
       " 'last_error': None,\n",
       " 'metadata': {},\n",
       " 'model': 'gpt-3.5-turbo-1106',\n",
       " 'object': 'thread.run',\n",
       " 'required_action': None,\n",
       " 'started_at': None,\n",
       " 'status': 'queued',\n",
       " 'thread_id': 'thread_Gw7uLBcfulxj71oZfZTLEUry',\n",
       " 'tools': [{'type': 'retrieval'}],\n",
       " 'usage': None}"
      ]
     },
     "metadata": {},
     "output_type": "display_data"
    }
   ],
   "source": [
    "from openai.types.beta.threads.run import Run\n",
    "run:Run = client.beta.threads.runs.create(\n",
    "    thread_id=thread.id,\n",
    "    assistant_id=assistant.id,\n",
    "    instructions=\"Please address the user as Pakistani. The user is the student of PIAIC.\"\n",
    ")\n",
    "display(show_json(run))\n"
   ]
  },
  {
   "cell_type": "code",
   "execution_count": 67,
   "metadata": {},
   "outputs": [],
   "source": [
    "# run:Run = client.beta.threads.runs.retrieve(\n",
    "#     thread_id=thread.id,\n",
    "#     run_id=run.id,\n",
    "# )\n",
    "# display(show_json(run))\n",
    "\n"
   ]
  },
  {
   "cell_type": "code",
   "execution_count": 68,
   "metadata": {},
   "outputs": [
    {
     "name": "stdout",
     "output_type": "stream",
     "text": [
      "queued ===\n",
      "in_progress ===\n",
      "in_progress ===\n",
      "in_progress ===\n",
      "in_progress ===\n",
      "in_progress ===\n",
      "in_progress ===\n",
      "in_progress ===\n",
      "in_progress ===\n",
      "in_progress ===\n",
      "in_progress ===\n",
      "in_progress ===\n",
      "in_progress ===\n",
      "in_progress ===\n",
      "in_progress ===\n",
      "in_progress ===\n",
      "in_progress ===\n",
      "in_progress ===\n",
      "in_progress ===\n",
      "in_progress ===\n",
      "in_progress ===\n",
      "in_progress ===\n",
      "in_progress ===\n",
      "in_progress ===\n",
      "in_progress ===\n",
      "in_progress ===\n",
      "in_progress ===\n",
      "in_progress ===\n",
      "in_progress ===\n",
      "in_progress ===\n",
      "in_progress ===\n",
      "in_progress ===\n",
      "in_progress ===\n",
      "in_progress ===\n",
      "in_progress ===\n",
      "in_progress ===\n",
      "in_progress ===\n",
      "in_progress ===\n",
      "in_progress ===\n",
      "in_progress ===\n",
      "in_progress ===\n",
      "in_progress ===\n",
      "in_progress ===\n",
      "in_progress ===\n",
      "in_progress ===\n",
      "in_progress ===\n",
      "in_progress ===\n",
      "in_progress ===\n",
      "in_progress ===\n",
      "in_progress ===\n",
      "in_progress ===\n",
      "in_progress ===\n",
      "in_progress ===\n",
      "in_progress ===\n",
      "in_progress ===\n",
      "in_progress ===\n",
      "in_progress ===\n",
      "in_progress ===\n",
      "in_progress ===\n",
      "in_progress ===\n",
      "in_progress ===\n",
      "in_progress ===\n",
      "in_progress ===\n",
      "in_progress ===\n",
      "in_progress ===\n",
      "in_progress ===\n",
      "in_progress ===\n",
      "in_progress ===\n",
      "in_progress ===\n",
      "in_progress ===\n",
      "in_progress ===\n",
      "in_progress ===\n",
      "in_progress ===\n",
      "in_progress ===\n",
      "in_progress ===\n",
      "in_progress ===\n",
      "in_progress ===\n",
      "in_progress ===\n",
      "in_progress ===\n",
      "in_progress ===\n",
      "in_progress ===\n",
      "in_progress ===\n",
      "in_progress ===\n",
      "in_progress ===\n",
      "in_progress ===\n",
      "in_progress ===\n",
      "in_progress ===\n",
      "in_progress ===\n",
      "in_progress ===\n",
      "in_progress ===\n",
      "in_progress ===\n",
      "in_progress ===\n",
      "expired\n"
     ]
    }
   ],
   "source": [
    "import time\n",
    "\n",
    "\n",
    "while run.status == \"queued\" or run.status == \"in_progress\":\n",
    "        print(run.status, \"===\")\n",
    "        run = client.beta.threads.runs.retrieve(\n",
    "            thread_id=thread.id,\n",
    "            run_id=run.id,\n",
    "        )\n",
    "        time.sleep(0.5)\n",
    "    # return run\n",
    "\n",
    "print(run.status)\n"
   ]
  },
  {
   "cell_type": "code",
   "execution_count": 69,
   "metadata": {},
   "outputs": [
    {
     "name": "stdout",
     "output_type": "stream",
     "text": [
      "user : what is Colour and Reg No of FORD GALAXY 2.0 TDCI ZETEC 6 SPEED 5 Door MPV *IMPORTED* No Reserve Retail Dealership Vehicle Direct\n"
     ]
    }
   ],
   "source": [
    "messages:list[ThreadMessage] =  client.beta.threads.messages.list(\n",
    "    thread_id=thread.id\n",
    ")\n",
    "\n",
    "\n",
    "\n",
    "for m in reversed(messages.data):\n",
    "    print(m.role + \" : \"+m.content[0].text.value)\n",
    "\n"
   ]
  },
  {
   "cell_type": "code",
   "execution_count": null,
   "metadata": {},
   "outputs": [],
   "source": []
  },
  {
   "cell_type": "code",
   "execution_count": null,
   "metadata": {},
   "outputs": [],
   "source": [
    "\n"
   ]
  },
  {
   "cell_type": "code",
   "execution_count": null,
   "metadata": {},
   "outputs": [],
   "source": []
  }
 ],
 "metadata": {
  "kernelspec": {
   "display_name": "python-env-12",
   "language": "python",
   "name": "python3"
  },
  "language_info": {
   "codemirror_mode": {
    "name": "ipython",
    "version": 3
   },
   "file_extension": ".py",
   "mimetype": "text/x-python",
   "name": "python",
   "nbconvert_exporter": "python",
   "pygments_lexer": "ipython3",
   "version": "3.12.0"
  }
 },
 "nbformat": 4,
 "nbformat_minor": 2
}
