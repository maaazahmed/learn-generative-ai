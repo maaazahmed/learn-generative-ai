{
 "cells": [
  {
   "cell_type": "code",
   "execution_count": 21,
   "metadata": {},
   "outputs": [],
   "source": [
    "from openai import OpenAI\n",
    "from dotenv import dotenv_values\n",
    "import json\n",
    "# **** GPT_MODEL **** #\n",
    "GPT_MODEL = \"gpt-3.5-turbo-1106\"\n",
    "\n",
    "\n",
    "OPENAI_API_KEY:str = dotenv_values(\".env\").get(\"OPENAI_API_KEY\")\n",
    "client:OpenAI = OpenAI(api_key=OPENAI_API_KEY)\n"
   ]
  },
  {
   "cell_type": "code",
   "execution_count": 22,
   "metadata": {},
   "outputs": [],
   "source": [
    "def show_json(obj):\n",
    "    return json.loads(obj.model_dump_json())"
   ]
  },
  {
   "cell_type": "code",
   "execution_count": 31,
   "metadata": {},
   "outputs": [
    {
     "data": {
      "text/plain": [
       "{'id': 'file-IMqgf7jO2Y43h4HVcK4mx3wP',\n",
       " 'bytes': 48802,\n",
       " 'created_at': 1702503312,\n",
       " 'filename': 'zia_profile.pdf',\n",
       " 'object': 'file',\n",
       " 'purpose': 'assistants',\n",
       " 'status': 'processed',\n",
       " 'status_details': None}"
      ]
     },
     "metadata": {},
     "output_type": "display_data"
    }
   ],
   "source": [
    "file = client.files.create(\n",
    "    file=open(\"zia_profile.pdf\", \"rb\"),\n",
    "    purpose=\"assistants\"\n",
    ")\n",
    "\n",
    "display(show_json(file))"
   ]
  },
  {
   "cell_type": "code",
   "execution_count": 32,
   "metadata": {},
   "outputs": [
    {
     "data": {
      "text/plain": [
       "{'id': 'asst_LYKWXyZQ6vpJ9vH0M3Poxm71',\n",
       " 'created_at': 1702503314,\n",
       " 'description': None,\n",
       " 'file_ids': ['file-IMqgf7jO2Y43h4HVcK4mx3wP'],\n",
       " 'instructions': 'You are a student support chatbot. Use your knowledge base to best respond to student queries about Zia',\n",
       " 'metadata': {},\n",
       " 'model': 'gpt-3.5-turbo-1106',\n",
       " 'name': 'Student Support Assistant',\n",
       " 'object': 'assistant',\n",
       " 'tools': [{'type': 'retrieval'}]}"
      ]
     },
     "metadata": {},
     "output_type": "display_data"
    }
   ],
   "source": [
    "from openai.types.beta.assistant import Assistant\n",
    "# You are a student support chatbot. Use your knowledge base to best respond to student queries about Zia \n",
    "assistant:Assistant = client.beta.assistants.create(\n",
    "    name=\"Student Support Assistant\",\n",
    "    instructions=\"You are a student support chatbot. Use your knowledge base to best respond to student queries about Zia\",\n",
    "    model=GPT_MODEL,\n",
    "    tools=[{\"type\":\"retrieval\"}],\n",
    "    file_ids=[file.id]\n",
    ")\n",
    "\n",
    "\n",
    "display(show_json(assistant))"
   ]
  },
  {
   "cell_type": "code",
   "execution_count": 33,
   "metadata": {},
   "outputs": [],
   "source": [
    "from openai.types.beta.thread import Thread\n",
    "thread:Thread =  client.beta.threads.create()"
   ]
  },
  {
   "cell_type": "code",
   "execution_count": 34,
   "metadata": {},
   "outputs": [
    {
     "data": {
      "text/plain": [
       "{'id': 'asst_LYKWXyZQ6vpJ9vH0M3Poxm71',\n",
       " 'created_at': 1702503314,\n",
       " 'description': None,\n",
       " 'file_ids': ['file-IMqgf7jO2Y43h4HVcK4mx3wP'],\n",
       " 'instructions': 'You are a student support chatbot. Use your knowledge base to best respond to student queries about Zia',\n",
       " 'metadata': {},\n",
       " 'model': 'gpt-3.5-turbo-1106',\n",
       " 'name': 'Student Support Assistant',\n",
       " 'object': 'assistant',\n",
       " 'tools': [{'type': 'retrieval'}]}"
      ]
     },
     "metadata": {},
     "output_type": "display_data"
    }
   ],
   "source": [
    "from openai.types.beta.threads.thread_message import ThreadMessage\n",
    "\n",
    "message:ThreadMessage = client.beta.threads.messages.create(\n",
    "    thread_id=thread.id,\n",
    "    role=\"user\",\n",
    "    content=\"When and which city Zia U. Khan was born?\",\n",
    ")\n",
    "\n",
    "display(show_json(assistant))\n"
   ]
  },
  {
   "cell_type": "code",
   "execution_count": 35,
   "metadata": {},
   "outputs": [
    {
     "data": {
      "text/plain": [
       "{'id': 'run_qURF7XhMTQhMCJKFXioFfzWN',\n",
       " 'assistant_id': 'asst_LYKWXyZQ6vpJ9vH0M3Poxm71',\n",
       " 'cancelled_at': None,\n",
       " 'completed_at': None,\n",
       " 'created_at': 1702503316,\n",
       " 'expires_at': 1702503916,\n",
       " 'failed_at': None,\n",
       " 'file_ids': ['file-IMqgf7jO2Y43h4HVcK4mx3wP'],\n",
       " 'instructions': 'Please address the user as Pakistani. The user is the student of PIAIC.',\n",
       " 'last_error': None,\n",
       " 'metadata': {},\n",
       " 'model': 'gpt-3.5-turbo-1106',\n",
       " 'object': 'thread.run',\n",
       " 'required_action': None,\n",
       " 'started_at': None,\n",
       " 'status': 'queued',\n",
       " 'thread_id': 'thread_TZwUkBu328OWnjNR05B8uLG1',\n",
       " 'tools': [{'type': 'retrieval'}]}"
      ]
     },
     "metadata": {},
     "output_type": "display_data"
    }
   ],
   "source": [
    "from openai.types.beta.threads.run import Run\n",
    "run:Run = client.beta.threads.runs.create(\n",
    "    thread_id=thread.id,\n",
    "    assistant_id=assistant.id,\n",
    "    instructions=\"Please address the user as Pakistani. The user is the student of PIAIC.\"\n",
    ")\n",
    "display(show_json(run))\n"
   ]
  },
  {
   "cell_type": "code",
   "execution_count": 36,
   "metadata": {},
   "outputs": [
    {
     "data": {
      "text/plain": [
       "{'id': 'run_qURF7XhMTQhMCJKFXioFfzWN',\n",
       " 'assistant_id': 'asst_LYKWXyZQ6vpJ9vH0M3Poxm71',\n",
       " 'cancelled_at': None,\n",
       " 'completed_at': None,\n",
       " 'created_at': 1702503316,\n",
       " 'expires_at': 1702503916,\n",
       " 'failed_at': None,\n",
       " 'file_ids': ['file-IMqgf7jO2Y43h4HVcK4mx3wP'],\n",
       " 'instructions': 'Please address the user as Pakistani. The user is the student of PIAIC.',\n",
       " 'last_error': None,\n",
       " 'metadata': {},\n",
       " 'model': 'gpt-3.5-turbo-1106',\n",
       " 'object': 'thread.run',\n",
       " 'required_action': None,\n",
       " 'started_at': 1702503316,\n",
       " 'status': 'in_progress',\n",
       " 'thread_id': 'thread_TZwUkBu328OWnjNR05B8uLG1',\n",
       " 'tools': [{'type': 'retrieval'}]}"
      ]
     },
     "metadata": {},
     "output_type": "display_data"
    }
   ],
   "source": [
    "run:Run = client.beta.threads.runs.retrieve(\n",
    "    thread_id=thread.id,\n",
    "    run_id=run.id,\n",
    ")\n",
    "display(show_json(run))\n",
    "\n"
   ]
  },
  {
   "cell_type": "code",
   "execution_count": 38,
   "metadata": {},
   "outputs": [
    {
     "name": "stdout",
     "output_type": "stream",
     "text": [
      "user : When and which city Zia U. Khan was born?\n",
      "assistant : Zia U. Khan was born in Sialkot in 1961【7†source】.\n"
     ]
    }
   ],
   "source": [
    "messages:list[ThreadMessage] =  client.beta.threads.messages.list(\n",
    "    thread_id=thread.id\n",
    ")\n",
    "\n",
    "for m in reversed(messages.data):\n",
    "    print(m.role + \" : \"+m.content[0].text.value)\n",
    "\n"
   ]
  },
  {
   "cell_type": "code",
   "execution_count": null,
   "metadata": {},
   "outputs": [],
   "source": []
  }
 ],
 "metadata": {
  "kernelspec": {
   "display_name": "python-env-12",
   "language": "python",
   "name": "python3"
  },
  "language_info": {
   "codemirror_mode": {
    "name": "ipython",
    "version": 3
   },
   "file_extension": ".py",
   "mimetype": "text/x-python",
   "name": "python",
   "nbconvert_exporter": "python",
   "pygments_lexer": "ipython3",
   "version": "3.12.0"
  }
 },
 "nbformat": 4,
 "nbformat_minor": 2
}
