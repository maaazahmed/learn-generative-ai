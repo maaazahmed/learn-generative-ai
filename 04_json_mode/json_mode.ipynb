{
 "cells": [
  {
   "cell_type": "code",
   "execution_count": 5,
   "metadata": {},
   "outputs": [],
   "source": [
    "from openai import OpenAI\n",
    "from dotenv import dotenv_values\n",
    "\n",
    "client:OpenAI = OpenAI(api_key=dotenv_values(\".env\").get(\"OPENAI_API_KEY\"))\n"
   ]
  },
  {
   "cell_type": "code",
   "execution_count": 23,
   "metadata": {},
   "outputs": [
    {
     "name": "stdout",
     "output_type": "stream",
     "text": [
      "<class 'str'>\n"
     ]
    }
   ],
   "source": [
    "from openai import ChatCompletion\n",
    "\n",
    "\n",
    "def chat_completion_stream()->str:\n",
    "    response = client.chat.completions.create(\n",
    "        model=\"gpt-3.5-turbo-1106\",\n",
    "       response_format={ \"type\": \"json_object\" },\n",
    "        messages=[\n",
    "            {\"role\":\"system\",\"content\":\"you will return JSON formate ever\"},\n",
    "            {\"role\":\"user\",\"content\":\"List of months that have 30 days\"}\n",
    "        ]\n",
    "    )\n",
    "    return response.choices[0].message.content\n",
    "\n",
    "response =  chat_completion_stream()\n",
    "\n",
    "\n",
    "\n"
   ]
  },
  {
   "cell_type": "code",
   "execution_count": 34,
   "metadata": {},
   "outputs": [
    {
     "name": "stdout",
     "output_type": "stream",
     "text": [
      "['April', 'June', 'September', 'November']\n",
      "April\n",
      "June\n",
      "September\n",
      "November\n"
     ]
    }
   ],
   "source": [
    "import json\n",
    "\n",
    "months:dict[str, list[str]] = json.loads(response)\n",
    "\n",
    "print(months[\"months\"])\n",
    "\n",
    "for month in months[\"months\"]:\n",
    "    print(month)"
   ]
  },
  {
   "cell_type": "code",
   "execution_count": null,
   "metadata": {},
   "outputs": [],
   "source": []
  }
 ],
 "metadata": {
  "kernelspec": {
   "display_name": "python-env-12",
   "language": "python",
   "name": "python3"
  },
  "language_info": {
   "codemirror_mode": {
    "name": "ipython",
    "version": 3
   },
   "file_extension": ".py",
   "mimetype": "text/x-python",
   "name": "python",
   "nbconvert_exporter": "python",
   "pygments_lexer": "ipython3",
   "version": "3.12.0"
  }
 },
 "nbformat": 4,
 "nbformat_minor": 2
}
